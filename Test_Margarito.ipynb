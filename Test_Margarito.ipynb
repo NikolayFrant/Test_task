{
 "cells": [
  {
   "cell_type": "markdown",
   "metadata": {},
   "source": [
    "# Тестовое задание для Маргарито"
   ]
  },
  {
   "cell_type": "markdown",
   "metadata": {},
   "source": [
    "Маргарито — интернет-сервис для размещения объявлений о товарах, вакансиях и резюме на рынке труда, а также услугах от частных лиц и компаний.\n",
    "\n",
    "Есть гипотеза, что Маргарито теряет лояльность пользователей из-за неэффективности текущей системы поддержки:\n",
    "\n",
    "Либо ответы даются слишком долго, либо проблема пользователя не решена.\n",
    "\n",
    "**Задача:** \n",
    "\n",
    "Подтвердить или опровергнуть гипотезу. \n",
    "\n",
    "\n",
    "Если гипотеза подтвердится, то оценить примерный урон для сайта Маргарито: в недополученных кол-ве объявлений и пользователях. \n",
    "\n",
    "\n",
    "Что ожидаем получить на выходе: Презентацию (не более 10 слайдов) с отдельным комментарием – ответ на саму задачу и описание методов решения.   "
   ]
  },
  {
   "cell_type": "markdown",
   "metadata": {},
   "source": [
    "## Описание данных\n",
    "\n",
    "\n",
    "**support_tickets** — таблица содержит обращение в службу поддержки Маргарито c сентября 2015 по декабрь 2015 включительно. \n",
    "\n",
    "- User_id– уникальный идентификатор пользователя;       \n",
    "- creation_date (activity_start_dt) – столбец, когда пользователь завел тикет (обращение);       \n",
    "- fact_reaction – время ответа специалиста поддержки;       \n",
    "- current_state – состояние обращения на текущий момент. В данных тикеты только в состоянии «решено», что означает, что был дан окончательный ответ со стороны поддержки, но не обязательно решен с точки зрения пользователя; \n",
    "- ticket_category, subcategory – тема обращения в поддержку;       \n",
    "- request_id – Уникальный идентификатор обращения в системы поддержки;\n",
    "\n",
    "\n",
    "**users_evaluation_of_satisfaction** — содержит оценку пользователями их удовлетворенности после окончательного ответа сотрудника службы поддержки. Не все тикеты имеют оценку от пользователя.\n",
    "\n",
    "- request_id — id пользователя;\n",
    "- result_mentioned_by_user — ползовательская оценка;\n",
    "\n",
    "**New_items_by_support_users** — таблица с подачами объявлений (только пользователи, обратившиеся в поддержку в период с сентября 2015 по декабрь 2015)\n",
    "\n",
    "- user_id – уникальный идентификатор пользователя;\n",
    "- user_registration_time – дата регистрации пользователя; \n",
    "- user_first_listing_date – дата размещения первого объявления;\n",
    "- item_id – уникальный идентификатор объявления;\n",
    "- item_starttime – время публикации объявления;      \n",
    "- item_category – категория объявления (Транспорт, Недвижимость и т.д.);\n",
    "- item_subcategory – подкатегория объявления (Автомобили, Автозапчасти и т.д.);\n"
   ]
  },
  {
   "cell_type": "markdown",
   "metadata": {},
   "source": [
    "## Оглавление\n",
    "\n",
    "#### Импорт библиотек и загрузка данных\n",
    "\n",
    "#### Предобработка данных\n",
    "\n",
    "- Исследование пропущенных значений;\n",
    "- Нахождение дубликатов и удаление повторяющихся значений;\n",
    "- Изменение формата даты;\n",
    "\n",
    "#### Исследовательский анализ данных\n",
    "\n",
    "- Рассмотрим данные за представленный период;\n",
    "- Изучим какие оценки содержатся в ответах пользователей и их количество;\n",
    "- Вывод\n",
    "- Изучим среднее время ожидания ответа от тех.поддержки\n",
    "- Изучим более детально время ожидания ответа по минутам, часам, дням. Также, найдём среднее значение.\n",
    "- Вывод\n",
    "\n",
    "#### Изучим влияние негативной оценки и времени\n",
    "\n",
    "- Вывод\n",
    "- Проверим нашу гипотезу методами статистики.Анализируем различие в среднем времени ответа по двум группам\n",
    "- Гипотеза: Cреднее время ожидания ответа от пользователей с негативной оценкой не отличается от пользователей с положительной оценкой\n",
    "\n",
    "#### Изучим негативное влияние на сайт Маргарито от группы «нелояльных» пользователей\n",
    "\n",
    "- Изучим распределение среднего количества публикуемых объявлений для каждого пользователя\n",
    "- Объединим два фрейма и выделим две группы: с неудовлетворительной оценкой и все остальные.\n",
    "- Для двух групп сделаем группировку по уникальным пользователям и рассчитываем количество объявлений для каждого пользователя\n",
    "- Находим среднее количество объявлений для пользователей в каждой из групп и сравниваем.\n",
    "- Рассчитываем количество пользователей в каждой из групп\n",
    "- Умножаем среднее количество объявлений на количество пользователей, в каждой из групп. Проводим сравнение по примерному недополученному количеству объявлений.\n",
    "- Находим доли от общего количества\n",
    "- Вывод\n",
    "- Проверим нашу гипотезу методами статистики. Анализируем различие в среднем количестве объявлений по двум группам\n",
    "- Гипотеза: Cреднее количество объявлений от нелояльных пользователей не отличается от ср. количества объявлений лояльных пользователей\n",
    "\n",
    "#### Финальный вывод\n",
    "\n"
   ]
  },
  {
   "cell_type": "markdown",
   "metadata": {},
   "source": [
    "## Импорт библиотек и загрузка данных"
   ]
  },
  {
   "cell_type": "code",
   "execution_count": 1,
   "metadata": {},
   "outputs": [],
   "source": [
    "import pandas as pd\n",
    "import matplotlib.pyplot as plt\n",
    "import seaborn as sns\n",
    "import datetime"
   ]
  },
  {
   "cell_type": "code",
   "execution_count": 2,
   "metadata": {},
   "outputs": [],
   "source": [
    "support_t = pd.read_csv('support_tickets.csv')\n",
    "users_evaluation = pd.read_csv('users_evaluation_of_satisfaction.csv')\n",
    "table_by_support = pd.read_csv('new_items_by_support_users (1).csv')"
   ]
  },
  {
   "cell_type": "code",
   "execution_count": 3,
   "metadata": {},
   "outputs": [
    {
     "data": {
      "text/html": [
       "<div>\n",
       "<style scoped>\n",
       "    .dataframe tbody tr th:only-of-type {\n",
       "        vertical-align: middle;\n",
       "    }\n",
       "\n",
       "    .dataframe tbody tr th {\n",
       "        vertical-align: top;\n",
       "    }\n",
       "\n",
       "    .dataframe thead th {\n",
       "        text-align: right;\n",
       "    }\n",
       "</style>\n",
       "<table border=\"1\" class=\"dataframe\">\n",
       "  <thead>\n",
       "    <tr style=\"text-align: right;\">\n",
       "      <th></th>\n",
       "      <th>user_id</th>\n",
       "      <th>ticket_category</th>\n",
       "      <th>ticket_subcategory</th>\n",
       "      <th>current_state</th>\n",
       "      <th>request_id</th>\n",
       "      <th>activity_start_dt</th>\n",
       "      <th>fact_reaction_dt</th>\n",
       "    </tr>\n",
       "  </thead>\n",
       "  <tbody>\n",
       "    <tr>\n",
       "      <th>0</th>\n",
       "      <td>370 518 212</td>\n",
       "      <td>Технические вопросы</td>\n",
       "      <td>Доступ к сайту</td>\n",
       "      <td>Решено</td>\n",
       "      <td>045be6ac-d532-4c20-b1c9-fb82c1737464</td>\n",
       "      <td>2015-11-26 22:56:00</td>\n",
       "      <td>2015-12-03 12:11:00</td>\n",
       "    </tr>\n",
       "    <tr>\n",
       "      <th>1</th>\n",
       "      <td>2 138 799</td>\n",
       "      <td>Технические вопросы</td>\n",
       "      <td>Доступ к сайту</td>\n",
       "      <td>Решено</td>\n",
       "      <td>8ebbb8c6-7abb-4fad-a83b-35a71a83a186</td>\n",
       "      <td>2015-12-18 08:52:00</td>\n",
       "      <td>2015-12-23 06:40:00</td>\n",
       "    </tr>\n",
       "    <tr>\n",
       "      <th>2</th>\n",
       "      <td>2 033 101</td>\n",
       "      <td>Технические вопросы</td>\n",
       "      <td>Доступ к сайту</td>\n",
       "      <td>Решено</td>\n",
       "      <td>ee303751-4a21-4544-a4c3-56924c088028</td>\n",
       "      <td>2015-12-16 19:06:00</td>\n",
       "      <td>2015-12-26 07:46:00</td>\n",
       "    </tr>\n",
       "    <tr>\n",
       "      <th>3</th>\n",
       "      <td>177 122 000 003</td>\n",
       "      <td>Мобильный Avito</td>\n",
       "      <td>Android приложение</td>\n",
       "      <td>Решено</td>\n",
       "      <td>bb989fcb-277a-41bd-aaa2-f131333b629e</td>\n",
       "      <td>2015-12-01 17:08:00</td>\n",
       "      <td>2015-12-09 11:19:00</td>\n",
       "    </tr>\n",
       "    <tr>\n",
       "      <th>4</th>\n",
       "      <td>37 340 500 064</td>\n",
       "      <td>Технические вопросы</td>\n",
       "      <td>Доступ к сайту</td>\n",
       "      <td>Решено</td>\n",
       "      <td>e742d172-0ef1-47d8-b862-25be082d8bc0</td>\n",
       "      <td>2015-12-14 10:08:00</td>\n",
       "      <td>2015-12-15 16:14:00</td>\n",
       "    </tr>\n",
       "  </tbody>\n",
       "</table>\n",
       "</div>"
      ],
      "text/plain": [
       "           user_id      ticket_category  ticket_subcategory current_state  \\\n",
       "0      370 518 212  Технические вопросы      Доступ к сайту        Решено   \n",
       "1        2 138 799  Технические вопросы      Доступ к сайту        Решено   \n",
       "2        2 033 101  Технические вопросы      Доступ к сайту        Решено   \n",
       "3  177 122 000 003      Мобильный Avito  Android приложение        Решено   \n",
       "4   37 340 500 064  Технические вопросы      Доступ к сайту        Решено   \n",
       "\n",
       "                             request_id    activity_start_dt  \\\n",
       "0  045be6ac-d532-4c20-b1c9-fb82c1737464  2015-11-26 22:56:00   \n",
       "1  8ebbb8c6-7abb-4fad-a83b-35a71a83a186  2015-12-18 08:52:00   \n",
       "2  ee303751-4a21-4544-a4c3-56924c088028  2015-12-16 19:06:00   \n",
       "3  bb989fcb-277a-41bd-aaa2-f131333b629e  2015-12-01 17:08:00   \n",
       "4  e742d172-0ef1-47d8-b862-25be082d8bc0  2015-12-14 10:08:00   \n",
       "\n",
       "      fact_reaction_dt  \n",
       "0  2015-12-03 12:11:00  \n",
       "1  2015-12-23 06:40:00  \n",
       "2  2015-12-26 07:46:00  \n",
       "3  2015-12-09 11:19:00  \n",
       "4  2015-12-15 16:14:00  "
      ]
     },
     "execution_count": 3,
     "metadata": {},
     "output_type": "execute_result"
    }
   ],
   "source": [
    "support_t.head()"
   ]
  },
  {
   "cell_type": "code",
   "execution_count": 4,
   "metadata": {},
   "outputs": [
    {
     "data": {
      "text/html": [
       "<div>\n",
       "<style scoped>\n",
       "    .dataframe tbody tr th:only-of-type {\n",
       "        vertical-align: middle;\n",
       "    }\n",
       "\n",
       "    .dataframe tbody tr th {\n",
       "        vertical-align: top;\n",
       "    }\n",
       "\n",
       "    .dataframe thead th {\n",
       "        text-align: right;\n",
       "    }\n",
       "</style>\n",
       "<table border=\"1\" class=\"dataframe\">\n",
       "  <thead>\n",
       "    <tr style=\"text-align: right;\">\n",
       "      <th></th>\n",
       "      <th>request_id</th>\n",
       "      <th>result_mentioned_by_user</th>\n",
       "    </tr>\n",
       "  </thead>\n",
       "  <tbody>\n",
       "    <tr>\n",
       "      <th>0</th>\n",
       "      <td>09e34912-b4df-4e91-b3e0-35b40fe6b9b8</td>\n",
       "      <td>Не удовлетворительно</td>\n",
       "    </tr>\n",
       "    <tr>\n",
       "      <th>1</th>\n",
       "      <td>76099bef-7ab3-4a01-96c3-4c06f4032a7e</td>\n",
       "      <td>Не удовлетворительно</td>\n",
       "    </tr>\n",
       "    <tr>\n",
       "      <th>2</th>\n",
       "      <td>70acfed6-8897-4e38-a407-65150e7a4395</td>\n",
       "      <td>Удовлетворительно</td>\n",
       "    </tr>\n",
       "    <tr>\n",
       "      <th>3</th>\n",
       "      <td>64c7a6c8-8bfe-4f35-b662-9091b3472e6f</td>\n",
       "      <td>Не удовлетворительно</td>\n",
       "    </tr>\n",
       "    <tr>\n",
       "      <th>4</th>\n",
       "      <td>b08d9414-7167-4f7f-9837-fe6e535f4fb6</td>\n",
       "      <td>Не удовлетворительно</td>\n",
       "    </tr>\n",
       "  </tbody>\n",
       "</table>\n",
       "</div>"
      ],
      "text/plain": [
       "                             request_id result_mentioned_by_user\n",
       "0  09e34912-b4df-4e91-b3e0-35b40fe6b9b8     Не удовлетворительно\n",
       "1  76099bef-7ab3-4a01-96c3-4c06f4032a7e     Не удовлетворительно\n",
       "2  70acfed6-8897-4e38-a407-65150e7a4395        Удовлетворительно\n",
       "3  64c7a6c8-8bfe-4f35-b662-9091b3472e6f     Не удовлетворительно\n",
       "4  b08d9414-7167-4f7f-9837-fe6e535f4fb6     Не удовлетворительно"
      ]
     },
     "execution_count": 4,
     "metadata": {},
     "output_type": "execute_result"
    }
   ],
   "source": [
    "users_evaluation.head()"
   ]
  },
  {
   "cell_type": "code",
   "execution_count": 5,
   "metadata": {},
   "outputs": [
    {
     "data": {
      "text/html": [
       "<div>\n",
       "<style scoped>\n",
       "    .dataframe tbody tr th:only-of-type {\n",
       "        vertical-align: middle;\n",
       "    }\n",
       "\n",
       "    .dataframe tbody tr th {\n",
       "        vertical-align: top;\n",
       "    }\n",
       "\n",
       "    .dataframe thead th {\n",
       "        text-align: right;\n",
       "    }\n",
       "</style>\n",
       "<table border=\"1\" class=\"dataframe\">\n",
       "  <thead>\n",
       "    <tr style=\"text-align: right;\">\n",
       "      <th></th>\n",
       "      <th>user_id</th>\n",
       "      <th>user_registration_time</th>\n",
       "      <th>user_first_listing_date</th>\n",
       "      <th>item_id</th>\n",
       "      <th>item_starttime</th>\n",
       "      <th>item_category</th>\n",
       "      <th>item_subcategory</th>\n",
       "    </tr>\n",
       "  </thead>\n",
       "  <tbody>\n",
       "    <tr>\n",
       "      <th>0</th>\n",
       "      <td>386 341 477</td>\n",
       "      <td>2013-05-27 14:40:09</td>\n",
       "      <td>2013-05-27 14:40:09</td>\n",
       "      <td>8 523 500 011</td>\n",
       "      <td>2014-01-01 02:22:54</td>\n",
       "      <td>Транспорт</td>\n",
       "      <td>Автомобили</td>\n",
       "    </tr>\n",
       "    <tr>\n",
       "      <th>1</th>\n",
       "      <td>6 790 750 024</td>\n",
       "      <td>2013-12-14 23:05:15</td>\n",
       "      <td>2013-12-14 23:27:04</td>\n",
       "      <td>8 525 000 013</td>\n",
       "      <td>2014-01-01 02:45:56</td>\n",
       "      <td>Транспорт</td>\n",
       "      <td>Запчасти и аксессуары</td>\n",
       "    </tr>\n",
       "    <tr>\n",
       "      <th>2</th>\n",
       "      <td>2 755 740</td>\n",
       "      <td>2011-04-14 17:54:40</td>\n",
       "      <td>2011-04-14 18:05:27</td>\n",
       "      <td>8 527 000 043</td>\n",
       "      <td>2014-01-01 03:29:44</td>\n",
       "      <td>Транспорт</td>\n",
       "      <td>Автомобили</td>\n",
       "    </tr>\n",
       "    <tr>\n",
       "      <th>3</th>\n",
       "      <td>506 779</td>\n",
       "      <td>2011-08-14 06:19:11</td>\n",
       "      <td>2011-08-14 06:50:04</td>\n",
       "      <td>8 530 000 039</td>\n",
       "      <td>2014-01-01 04:34:51</td>\n",
       "      <td>Личные вещи</td>\n",
       "      <td>Красота и здоровье</td>\n",
       "    </tr>\n",
       "    <tr>\n",
       "      <th>4</th>\n",
       "      <td>766 896</td>\n",
       "      <td>2013-05-17 11:32:13</td>\n",
       "      <td>2013-06-05 06:05:09</td>\n",
       "      <td>8 534 500 187</td>\n",
       "      <td>2014-01-01 06:07:58</td>\n",
       "      <td>Недвижимость</td>\n",
       "      <td>Дома, дачи, коттеджи</td>\n",
       "    </tr>\n",
       "  </tbody>\n",
       "</table>\n",
       "</div>"
      ],
      "text/plain": [
       "         user_id user_registration_time user_first_listing_date  \\\n",
       "0    386 341 477    2013-05-27 14:40:09     2013-05-27 14:40:09   \n",
       "1  6 790 750 024    2013-12-14 23:05:15     2013-12-14 23:27:04   \n",
       "2      2 755 740    2011-04-14 17:54:40     2011-04-14 18:05:27   \n",
       "3        506 779    2011-08-14 06:19:11     2011-08-14 06:50:04   \n",
       "4        766 896    2013-05-17 11:32:13     2013-06-05 06:05:09   \n",
       "\n",
       "         item_id       item_starttime item_category       item_subcategory  \n",
       "0  8 523 500 011  2014-01-01 02:22:54     Транспорт             Автомобили  \n",
       "1  8 525 000 013  2014-01-01 02:45:56     Транспорт  Запчасти и аксессуары  \n",
       "2  8 527 000 043  2014-01-01 03:29:44     Транспорт             Автомобили  \n",
       "3  8 530 000 039  2014-01-01 04:34:51   Личные вещи     Красота и здоровье  \n",
       "4  8 534 500 187  2014-01-01 06:07:58  Недвижимость   Дома, дачи, коттеджи  "
      ]
     },
     "execution_count": 5,
     "metadata": {},
     "output_type": "execute_result"
    }
   ],
   "source": [
    "table_by_support.head()"
   ]
  },
  {
   "cell_type": "code",
   "execution_count": 6,
   "metadata": {},
   "outputs": [
    {
     "name": "stdout",
     "output_type": "stream",
     "text": [
      "<class 'pandas.core.frame.DataFrame'>\n",
      "RangeIndex: 397530 entries, 0 to 397529\n",
      "Data columns (total 7 columns):\n",
      " #   Column              Non-Null Count   Dtype \n",
      "---  ------              --------------   ----- \n",
      " 0   user_id             397530 non-null  object\n",
      " 1   ticket_category     397530 non-null  object\n",
      " 2   ticket_subcategory  397530 non-null  object\n",
      " 3   current_state       397530 non-null  object\n",
      " 4   request_id          397530 non-null  object\n",
      " 5   activity_start_dt   397530 non-null  object\n",
      " 6   fact_reaction_dt    397530 non-null  object\n",
      "dtypes: object(7)\n",
      "memory usage: 21.2+ MB\n",
      "\n",
      "<class 'pandas.core.frame.DataFrame'>\n",
      "RangeIndex: 217533 entries, 0 to 217532\n",
      "Data columns (total 2 columns):\n",
      " #   Column                    Non-Null Count   Dtype \n",
      "---  ------                    --------------   ----- \n",
      " 0   request_id                217414 non-null  object\n",
      " 1   result_mentioned_by_user  217533 non-null  object\n",
      "dtypes: object(2)\n",
      "memory usage: 3.3+ MB\n",
      "\n",
      "<class 'pandas.core.frame.DataFrame'>\n",
      "RangeIndex: 18559923 entries, 0 to 18559922\n",
      "Data columns (total 7 columns):\n",
      " #   Column                   Dtype \n",
      "---  ------                   ----- \n",
      " 0   user_id                  object\n",
      " 1   user_registration_time   object\n",
      " 2   user_first_listing_date  object\n",
      " 3   item_id                  object\n",
      " 4   item_starttime           object\n",
      " 5   item_category            object\n",
      " 6   item_subcategory         object\n",
      "dtypes: object(7)\n",
      "memory usage: 991.2+ MB\n"
     ]
    }
   ],
   "source": [
    "support_t.info()\n",
    "print()\n",
    "users_evaluation.info()\n",
    "print()\n",
    "table_by_support.info()"
   ]
  },
  {
   "cell_type": "markdown",
   "metadata": {},
   "source": [
    "Количество и названия столбцов совпадает с заявленными. Значения в колонках дат представлены в строковом формате. Их необходимо перевести в удобный формат даты и времени."
   ]
  },
  {
   "cell_type": "markdown",
   "metadata": {},
   "source": [
    "## Предобработка данных"
   ]
  },
  {
   "cell_type": "markdown",
   "metadata": {},
   "source": [
    "**Исследование пропущенных значений**"
   ]
  },
  {
   "cell_type": "code",
   "execution_count": 7,
   "metadata": {},
   "outputs": [
    {
     "name": "stdout",
     "output_type": "stream",
     "text": [
      "Кол-во пропусков в столбце  user_id = 0\n",
      "Кол-во пропусков в столбце  ticket_category = 0\n",
      "Кол-во пропусков в столбце  ticket_subcategory = 0\n",
      "Кол-во пропусков в столбце  current_state = 0\n",
      "Кол-во пропусков в столбце  request_id = 0\n",
      "Кол-во пропусков в столбце  activity_start_dt = 0\n",
      "Кол-во пропусков в столбце  fact_reaction_dt = 0\n"
     ]
    }
   ],
   "source": [
    "# Проверяем наличие пропусков\n",
    "for row in support_t.columns:\n",
    "    print('Кол-во пропусков в столбце ', row, '=', support_t[row].isnull().sum())"
   ]
  },
  {
   "cell_type": "code",
   "execution_count": 8,
   "metadata": {},
   "outputs": [
    {
     "data": {
      "text/plain": [
       "request_id                  119\n",
       "result_mentioned_by_user      0\n",
       "dtype: int64"
      ]
     },
     "execution_count": 8,
     "metadata": {},
     "output_type": "execute_result"
    }
   ],
   "source": [
    "users_evaluation.isnull().sum()"
   ]
  },
  {
   "cell_type": "markdown",
   "metadata": {},
   "source": [
    "Обнаружены пропуски в id пользователя. Их нельзя восстановить, поэтому заменим на «0». Пропущенных значений примерно 0,05% от общего датасета, замена на «0» никак не повлияет на достоверность дальнейшего исследования."
   ]
  },
  {
   "cell_type": "code",
   "execution_count": 9,
   "metadata": {},
   "outputs": [],
   "source": [
    "users_evaluation.request_id = users_evaluation.request_id.fillna(0)"
   ]
  },
  {
   "cell_type": "code",
   "execution_count": 10,
   "metadata": {},
   "outputs": [
    {
     "data": {
      "text/plain": [
       "request_id                  0\n",
       "result_mentioned_by_user    0\n",
       "dtype: int64"
      ]
     },
     "execution_count": 10,
     "metadata": {},
     "output_type": "execute_result"
    }
   ],
   "source": [
    "users_evaluation.isnull().sum()"
   ]
  },
  {
   "cell_type": "code",
   "execution_count": 11,
   "metadata": {},
   "outputs": [
    {
     "name": "stdout",
     "output_type": "stream",
     "text": [
      "Кол-во пропусков в столбце  user_id = 0\n",
      "Кол-во пропусков в столбце  user_registration_time = 0\n",
      "Кол-во пропусков в столбце  user_first_listing_date = 0\n",
      "Кол-во пропусков в столбце  item_id = 0\n",
      "Кол-во пропусков в столбце  item_starttime = 0\n",
      "Кол-во пропусков в столбце  item_category = 0\n",
      "Кол-во пропусков в столбце  item_subcategory = 0\n"
     ]
    }
   ],
   "source": [
    "# Проверяем наличие пропусков\n",
    "for row in table_by_support.columns:\n",
    "    print('Кол-во пропусков в столбце ', row, '=', table_by_support[row].isnull().sum())"
   ]
  },
  {
   "cell_type": "markdown",
   "metadata": {},
   "source": [
    "**Нахождение дубликатов и удаление повторяющихся значений**"
   ]
  },
  {
   "cell_type": "code",
   "execution_count": 12,
   "metadata": {},
   "outputs": [
    {
     "data": {
      "text/plain": [
       "0"
      ]
     },
     "execution_count": 12,
     "metadata": {},
     "output_type": "execute_result"
    }
   ],
   "source": [
    "support_t.duplicated().sum()"
   ]
  },
  {
   "cell_type": "code",
   "execution_count": 13,
   "metadata": {},
   "outputs": [
    {
     "data": {
      "text/plain": [
       "6459"
      ]
     },
     "execution_count": 13,
     "metadata": {},
     "output_type": "execute_result"
    }
   ],
   "source": [
    "users_evaluation.duplicated().sum()"
   ]
  },
  {
   "cell_type": "code",
   "execution_count": 14,
   "metadata": {},
   "outputs": [],
   "source": [
    "users_evaluation = users_evaluation.drop_duplicates().reset_index(drop = True)"
   ]
  },
  {
   "cell_type": "markdown",
   "metadata": {},
   "source": [
    "**Изменим формат даты**"
   ]
  },
  {
   "cell_type": "code",
   "execution_count": 15,
   "metadata": {},
   "outputs": [],
   "source": [
    "support_t['activity_start_dt'] = pd.to_datetime(\n",
    "    support_t['activity_start_dt'], \n",
    "    format='%Y-%m-%d %H:%M:%S'\n",
    ")\n",
    "support_t['fact_reaction_dt'] = pd.to_datetime(\n",
    "    support_t['fact_reaction_dt'],\n",
    "    format='%Y-%m-%d %H:%M:%S' \n",
    ")"
   ]
  },
  {
   "cell_type": "code",
   "execution_count": 16,
   "metadata": {},
   "outputs": [],
   "source": [
    "# Добавим дополнтиельную колонку с датой обращения в тех.поддержку\n",
    "support_t['date'] = support_t.activity_start_dt.dt.date"
   ]
  },
  {
   "cell_type": "markdown",
   "metadata": {},
   "source": [
    "## Исследовательский анализ данных"
   ]
  },
  {
   "cell_type": "markdown",
   "metadata": {},
   "source": [
    "**Рассмотрим данные за представленный период**"
   ]
  },
  {
   "cell_type": "code",
   "execution_count": 17,
   "metadata": {},
   "outputs": [
    {
     "name": "stdout",
     "output_type": "stream",
     "text": [
      "Начало периода : 2015-08-14\n",
      "\n",
      "Конец периода : 2015-12-31\n"
     ]
    }
   ],
   "source": [
    "print('Начало периода :', support_t.date.min())\n",
    "print()\n",
    "print('Конец периода :', support_t.date.max())"
   ]
  },
  {
   "cell_type": "markdown",
   "metadata": {},
   "source": [
    "Первая указанная дата — 14 августа 2015 года, последняя — 31 декабря 15го. Таким образом, у нас представлены данные за 5 месяцев."
   ]
  },
  {
   "cell_type": "code",
   "execution_count": 18,
   "metadata": {},
   "outputs": [
    {
     "data": {
      "image/png": "[encoded data removed]",
      "text/plain": [
       "<Figure size 1224x360 with 1 Axes>"
      ]
     },
     "metadata": {},
     "output_type": "display_data"
    }
   ],
   "source": [
    "period_date = support_t.groupby('date')['user_id'].count().reset_index()\n",
    "\n",
    "\n",
    "\n",
    "sns.set(font_scale=1.2)\n",
    "plot = period_date.plot(x = 'date', y = 'user_id', \n",
    "                        grid = True, rot=45, \n",
    "                        legend=False, figsize=(17,5))\n",
    "plt.title('Гистограмма по временному периоду')\n",
    "plt.xlabel('')\n",
    "plt.ylabel('Количество');"
   ]
  },
  {
   "cell_type": "markdown",
   "metadata": {},
   "source": [
    "Рассмотрев гистограмму мы видим, что полные данные представлены с 1го сентября 2015 по конец декабря 15го. Мы не будем использовать данные за август 15го."
   ]
  },
  {
   "cell_type": "code",
   "execution_count": 19,
   "metadata": {},
   "outputs": [],
   "source": [
    "# Отсекаем временной период, который не будем использовать\n",
    "full_date = pd.to_datetime('2015-09-01', format = '%Y-%m-%d')\n",
    "support_t = support_t[support_t['activity_start_dt'] >= full_date]"
   ]
  },
  {
   "cell_type": "code",
   "execution_count": 20,
   "metadata": {},
   "outputs": [
    {
     "data": {
      "image/png": "[encoded data removed]",
      "text/plain": [
       "<Figure size 1224x360 with 1 Axes>"
      ]
     },
     "metadata": {},
     "output_type": "display_data"
    }
   ],
   "source": [
    "period_date = support_t.groupby('date')['user_id'].count().reset_index()\n",
    "\n",
    "\n",
    "\n",
    "sns.set(font_scale=1.2)\n",
    "plot = period_date.plot(x = 'date', y = 'user_id', \n",
    "                        grid = True, rot=45, \n",
    "                        legend=False, figsize=(17,5))\n",
    "plt.title('Гистограмма по временному периоду')\n",
    "plt.xlabel('')\n",
    "plt.ylabel('Количество');"
   ]
  },
  {
   "cell_type": "code",
   "execution_count": 21,
   "metadata": {},
   "outputs": [
    {
     "data": {
      "text/plain": [
       "(397523, 8)"
      ]
     },
     "execution_count": 21,
     "metadata": {},
     "output_type": "execute_result"
    }
   ],
   "source": [
    "support_t.shape"
   ]
  },
  {
   "cell_type": "markdown",
   "metadata": {},
   "source": [
    "На гистограмме заметен отдельный всплекс по количеству обращений в конце сентября. Возможно, не работал сайт. Предположительно, узнать можно по характеру обращений в данный период."
   ]
  },
  {
   "cell_type": "markdown",
   "metadata": {},
   "source": [
    "**Изучим какие оценки содержатся в ответах пользователей и их количество**"
   ]
  },
  {
   "cell_type": "code",
   "execution_count": 22,
   "metadata": {},
   "outputs": [
    {
     "data": {
      "text/plain": [
       "Отлично                 108057\n",
       "Не удовлетворительно     43214\n",
       "Хорошо                   30731\n",
       "Нейтрально               17427\n",
       "Удовлетворительно        11645\n",
       "Name: result_mentioned_by_user, dtype: int64"
      ]
     },
     "execution_count": 22,
     "metadata": {},
     "output_type": "execute_result"
    }
   ],
   "source": [
    "cnt_value = users_evaluation.result_mentioned_by_user.value_counts()\n",
    "cnt_value"
   ]
  },
  {
   "cell_type": "code",
   "execution_count": 23,
   "metadata": {},
   "outputs": [
    {
     "data": {
      "image/png": "[encoded data removed]",
      "text/plain": [
       "<Figure size 1224x576 with 2 Axes>"
      ]
     },
     "metadata": {},
     "output_type": "display_data"
    }
   ],
   "source": [
    "sns.set(font_scale=1.2)\n",
    "plt.subplots(figsize=(17, 8))\n",
    "plot = cnt_value.plot(kind='bar', rot=45, x=plt.subplot(1,2,1))\n",
    "plt.title('Распределние оценок')\n",
    "plt.xlabel('')\n",
    "plt.ylabel('Количество значений')\n",
    "\n",
    "plot = cnt_value.plot(\n",
    "        kind='pie',\n",
    "        autopct='%1.1f%%',\n",
    "        \n",
    "        title='Распределение оценок',\n",
    "        y='result_mentioned_by_user',\n",
    "        legend=False,\n",
    "        explode=(0.1, 0.1, 0.1, 0.1, 0.1),\n",
    "        shadow=True,\n",
    "    ax = plt.subplot(1,2,2)\n",
    "    \n",
    ")\n",
    "plt.ylabel('')\n",
    "plt.show()\n"
   ]
  },
  {
   "cell_type": "markdown",
   "metadata": {},
   "source": [
    "В значительной степени преобладают положительные оценки от пользователей — 51.2% — «отлично» и 14.6% — «хорошо». Однако, наблюдается выраженная часть неудовлетворительных оценок — 20.5%.\n",
    "\n",
    "Необходимо узнать, с чем связаны положительные и неудовлетворительные оценки пользователей. Возможно, превышено время ожидания ответа или вопрос не решён."
   ]
  },
  {
   "cell_type": "code",
   "execution_count": 24,
   "metadata": {},
   "outputs": [
    {
     "data": {
      "text/plain": [
       "211074"
      ]
     },
     "execution_count": 24,
     "metadata": {},
     "output_type": "execute_result"
    }
   ],
   "source": [
    "# Всего оценок пользователей\n",
    "users_evaluation.result_mentioned_by_user.count()"
   ]
  },
  {
   "cell_type": "markdown",
   "metadata": {},
   "source": [
    "Зная общее количество пользовтелей за указанный период, мы находим количество пользователей не поставивших оценку — 186 тыс. 449 человек — примерно 46% пользователей."
   ]
  },
  {
   "cell_type": "markdown",
   "metadata": {},
   "source": [
    "### Вывод\n",
    "\n",
    "В значительной степени преобладают положительные оценки от пользователей — 51.2% — «отлично» и 14.6% — «хорошо». Однако, наблюдается выраженная часть неудовлетворительных оценок — 20.5%. \n",
    "\n",
    "Таким образом, предположительно, негативная оценка от пользователей может негативно повлиять на лояльность."
   ]
  },
  {
   "cell_type": "markdown",
   "metadata": {},
   "source": [
    "### Изучим среднее время ожидания ответа от тех.поддержки"
   ]
  },
  {
   "cell_type": "markdown",
   "metadata": {},
   "source": [
    "Для этого нужно посчитать время ожидания для всех пользователей и вычислить среднее."
   ]
  },
  {
   "cell_type": "code",
   "execution_count": 25,
   "metadata": {},
   "outputs": [],
   "source": [
    "support_t['duration'] = (support_t.fact_reaction_dt - support_t.activity_start_dt).dt.seconds"
   ]
  },
  {
   "cell_type": "code",
   "execution_count": 26,
   "metadata": {},
   "outputs": [
    {
     "data": {
      "text/plain": [
       "count    397523.000000\n",
       "mean      29323.996700\n",
       "std       27681.798734\n",
       "min           0.000000\n",
       "25%        4260.000000\n",
       "50%       19200.000000\n",
       "75%       53460.000000\n",
       "max       86340.000000\n",
       "Name: duration, dtype: float64"
      ]
     },
     "execution_count": 26,
     "metadata": {},
     "output_type": "execute_result"
    }
   ],
   "source": [
    "support_t.duration.describe()"
   ]
  },
  {
   "cell_type": "markdown",
   "metadata": {},
   "source": [
    "В данных присутсвуют большие значения — ответы тех.поддержки пользователям через 111 дней. Они воспринимаются как всплески, искажающие картину среднего. Поэтому для расчёта среднего будем использовать медианное значение."
   ]
  },
  {
   "cell_type": "code",
   "execution_count": 27,
   "metadata": {},
   "outputs": [
    {
     "data": {
      "text/plain": [
       "239833.33333333334"
      ]
     },
     "execution_count": 27,
     "metadata": {},
     "output_type": "execute_result"
    }
   ],
   "source": [
    "86340/.60/.60"
   ]
  },
  {
   "cell_type": "markdown",
   "metadata": {},
   "source": [
    "Максимальное ожидание ответа составляет примерно 1 день."
   ]
  },
  {
   "cell_type": "code",
   "execution_count": 28,
   "metadata": {},
   "outputs": [
    {
     "data": {
      "image/png": "[encoded data removed]",
      "text/plain": [
       "<Figure size 1224x360 with 2 Axes>"
      ]
     },
     "metadata": {},
     "output_type": "display_data"
    }
   ],
   "source": [
    "plt.subplots(figsize=(17,5))\n",
    "plot = support_t.boxplot(\n",
    "    'duration',\n",
    "    ax = plt.subplot(1,2,1),\n",
    "    \n",
    ")\n",
    "plt.title('Распределение значений времени ожидания ответа')\n",
    "plt.ylim(0,80000)\n",
    "plot = support_t.hist(\n",
    "    'duration',\n",
    "    ax = plt.subplot(1,2,2),\n",
    "    range=(0,80000)\n",
    ")\n",
    "plt.title('Распределение значений времени ожидания ответа');"
   ]
  },
  {
   "cell_type": "markdown",
   "metadata": {},
   "source": [
    "Наиболее частые значения соответствуют времени ожидания примерно в 16 минут."
   ]
  },
  {
   "cell_type": "code",
   "execution_count": 29,
   "metadata": {},
   "outputs": [
    {
     "data": {
      "text/plain": [
       "19200.0"
      ]
     },
     "execution_count": 29,
     "metadata": {},
     "output_type": "execute_result"
    }
   ],
   "source": [
    "# Посмотрим среднее по всем значениям\n",
    "support_t['duration'].median()"
   ]
  },
  {
   "cell_type": "markdown",
   "metadata": {},
   "source": [
    "Среднее ожидание ответа от тех.поддержки составляет примерно 5 часов, с момента обращения пользователя.\n",
    "\n",
    "Изучим более детально временную продолжительность за счет выделения определенной доли от всех «ожиданий»"
   ]
  },
  {
   "cell_type": "code",
   "execution_count": 30,
   "metadata": {},
   "outputs": [
    {
     "name": "stdout",
     "output_type": "stream",
     "text": [
      "Распространенность продолжительности ответа дилтельностью до 5 часов от общего числа временных ожиданий: 50.0%\n"
     ]
    }
   ],
   "source": [
    "ratio = support_t.query('duration < 19200')['duration'].count() / support_t['duration'].count()\n",
    "print('Распространенность продолжительности ответа дилтельностью до 5 часов от общего числа временных ожиданий: {:.1%}'\n",
    "      .format(ratio))"
   ]
  },
  {
   "cell_type": "markdown",
   "metadata": {},
   "source": [
    "То есть, время ожидания ответа меньшего, чем 5 часов примерно столько же. Необходимо узнать медианные значения."
   ]
  },
  {
   "cell_type": "code",
   "execution_count": 31,
   "metadata": {},
   "outputs": [
    {
     "data": {
      "text/plain": [
       "4260.0"
      ]
     },
     "execution_count": 31,
     "metadata": {},
     "output_type": "execute_result"
    }
   ],
   "source": [
    "support_t.query('duration < 19200')['duration'].median()"
   ]
  },
  {
   "cell_type": "code",
   "execution_count": 32,
   "metadata": {},
   "outputs": [
    {
     "data": {
      "text/plain": [
       "11833.333333333334"
      ]
     },
     "execution_count": 32,
     "metadata": {},
     "output_type": "execute_result"
    }
   ],
   "source": [
    "4260/.60/.60"
   ]
  },
  {
   "cell_type": "markdown",
   "metadata": {},
   "source": [
    "Ожидание ответа от тех. поддержки составляет примерно 1 час.\n",
    "\n",
    "Узнаем, самое частое значение по времени ожидания."
   ]
  },
  {
   "cell_type": "code",
   "execution_count": 33,
   "metadata": {},
   "outputs": [
    {
     "data": {
      "text/plain": [
       "180"
      ]
     },
     "execution_count": 33,
     "metadata": {},
     "output_type": "execute_result"
    }
   ],
   "source": [
    "support_t['duration'].mode()[0]"
   ]
  },
  {
   "cell_type": "markdown",
   "metadata": {},
   "source": [
    "Чаще всего тех.поддержка отвечает через 3 минуты, после обращения пользователя. Но, в основном время ожидания ответа составляет примерно 1 час. В среднем тех.поддержка отвечает через 5 часов. "
   ]
  },
  {
   "cell_type": "markdown",
   "metadata": {},
   "source": [
    "### Изучим более детально время ожидания ответа по минутам, часам, дням. Также, найдём среднее значение."
   ]
  },
  {
   "cell_type": "code",
   "execution_count": 34,
   "metadata": {},
   "outputs": [],
   "source": [
    "# Группировка времени ожидания по пользователям и выбор первой даты обращения\n",
    "user_grouped = support_t.groupby('user_id').agg({'activity_start_dt':'min'}).reset_index()\n",
    "\n",
    "# Группировка времени ответов по пользователям и выбор первой даты ответа\n",
    "teh_answer_grouped = support_t.groupby('user_id').agg({'fact_reaction_dt':'min'})"
   ]
  },
  {
   "cell_type": "code",
   "execution_count": 35,
   "metadata": {},
   "outputs": [],
   "source": [
    "# Объединяем данные о первом обращение и первом ответе по пользователям в одну таблицу\n",
    "user_to_answer = pd.merge(user_grouped, teh_answer_grouped, on='user_id')"
   ]
  },
  {
   "cell_type": "code",
   "execution_count": 36,
   "metadata": {},
   "outputs": [],
   "source": [
    "# Рассчитываем время между обращением и ответом\n",
    "user_to_answer['time_deal'] = user_to_answer['fact_reaction_dt'] - user_to_answer['activity_start_dt']"
   ]
  },
  {
   "cell_type": "code",
   "execution_count": 37,
   "metadata": {},
   "outputs": [
    {
     "data": {
      "text/html": [
       "<div>\n",
       "<style scoped>\n",
       "    .dataframe tbody tr th:only-of-type {\n",
       "        vertical-align: middle;\n",
       "    }\n",
       "\n",
       "    .dataframe tbody tr th {\n",
       "        vertical-align: top;\n",
       "    }\n",
       "\n",
       "    .dataframe thead th {\n",
       "        text-align: right;\n",
       "    }\n",
       "</style>\n",
       "<table border=\"1\" class=\"dataframe\">\n",
       "  <thead>\n",
       "    <tr style=\"text-align: right;\">\n",
       "      <th></th>\n",
       "      <th>user_id</th>\n",
       "      <th>activity_start_dt</th>\n",
       "      <th>fact_reaction_dt</th>\n",
       "      <th>time_deal</th>\n",
       "    </tr>\n",
       "  </thead>\n",
       "  <tbody>\n",
       "    <tr>\n",
       "      <th>0</th>\n",
       "      <td>100 000 095</td>\n",
       "      <td>2015-10-14 14:12:00</td>\n",
       "      <td>2015-10-14 14:15:00</td>\n",
       "      <td>0 days 00:03:00</td>\n",
       "    </tr>\n",
       "    <tr>\n",
       "      <th>1</th>\n",
       "      <td>100 000 209</td>\n",
       "      <td>2015-10-10 18:06:00</td>\n",
       "      <td>2015-10-14 19:30:00</td>\n",
       "      <td>4 days 01:24:00</td>\n",
       "    </tr>\n",
       "    <tr>\n",
       "      <th>2</th>\n",
       "      <td>100 000 217</td>\n",
       "      <td>2015-11-09 17:43:00</td>\n",
       "      <td>2015-11-15 11:48:00</td>\n",
       "      <td>5 days 18:05:00</td>\n",
       "    </tr>\n",
       "    <tr>\n",
       "      <th>3</th>\n",
       "      <td>100 000 232</td>\n",
       "      <td>2015-09-22 12:54:00</td>\n",
       "      <td>2015-09-22 13:21:00</td>\n",
       "      <td>0 days 00:27:00</td>\n",
       "    </tr>\n",
       "    <tr>\n",
       "      <th>4</th>\n",
       "      <td>100 000 242</td>\n",
       "      <td>2015-09-15 20:41:00</td>\n",
       "      <td>2015-09-16 18:18:00</td>\n",
       "      <td>0 days 21:37:00</td>\n",
       "    </tr>\n",
       "  </tbody>\n",
       "</table>\n",
       "</div>"
      ],
      "text/plain": [
       "       user_id   activity_start_dt    fact_reaction_dt       time_deal\n",
       "0  100 000 095 2015-10-14 14:12:00 2015-10-14 14:15:00 0 days 00:03:00\n",
       "1  100 000 209 2015-10-10 18:06:00 2015-10-14 19:30:00 4 days 01:24:00\n",
       "2  100 000 217 2015-11-09 17:43:00 2015-11-15 11:48:00 5 days 18:05:00\n",
       "3  100 000 232 2015-09-22 12:54:00 2015-09-22 13:21:00 0 days 00:27:00\n",
       "4  100 000 242 2015-09-15 20:41:00 2015-09-16 18:18:00 0 days 21:37:00"
      ]
     },
     "execution_count": 37,
     "metadata": {},
     "output_type": "execute_result"
    }
   ],
   "source": [
    "user_to_answer.head() # Проверяем"
   ]
  },
  {
   "cell_type": "markdown",
   "metadata": {},
   "source": [
    "Как мы видим, пользователи получают ответ как через несколько минут, так и через несколько часов и дней. Поэтому рассчитаем time delta для минут, часов и дней."
   ]
  },
  {
   "cell_type": "code",
   "execution_count": 38,
   "metadata": {},
   "outputs": [
    {
     "data": {
      "text/plain": [
       "count                    298951\n",
       "mean     2 days 00:52:48.447605\n",
       "std      3 days 20:41:28.534387\n",
       "min           -3 days +20:21:00\n",
       "25%             0 days 01:47:00\n",
       "50%             0 days 17:06:00\n",
       "75%             2 days 12:08:00\n",
       "max           111 days 20:35:00\n",
       "Name: time_deal, dtype: object"
      ]
     },
     "execution_count": 38,
     "metadata": {},
     "output_type": "execute_result"
    }
   ],
   "source": [
    "user_to_answer['time_deal'].describe()"
   ]
  },
  {
   "cell_type": "code",
   "execution_count": 39,
   "metadata": {},
   "outputs": [],
   "source": [
    "import numpy as np"
   ]
  },
  {
   "cell_type": "code",
   "execution_count": 40,
   "metadata": {},
   "outputs": [],
   "source": [
    "user_to_answer['time_deal_min'] = (user_to_answer.fact_reaction_dt - user_to_answer.activity_start_dt) / np.timedelta64(1, 'm')\n",
    "user_to_answer['time_deal_hours'] = (user_to_answer.fact_reaction_dt - user_to_answer.activity_start_dt) / np.timedelta64(1, 'h')\n",
    "user_to_answer['time_deal_day'] = (user_to_answer.fact_reaction_dt - user_to_answer.activity_start_dt) / np.timedelta64(1, 'D')"
   ]
  },
  {
   "cell_type": "code",
   "execution_count": 41,
   "metadata": {},
   "outputs": [
    {
     "data": {
      "text/html": [
       "<div>\n",
       "<style scoped>\n",
       "    .dataframe tbody tr th:only-of-type {\n",
       "        vertical-align: middle;\n",
       "    }\n",
       "\n",
       "    .dataframe tbody tr th {\n",
       "        vertical-align: top;\n",
       "    }\n",
       "\n",
       "    .dataframe thead th {\n",
       "        text-align: right;\n",
       "    }\n",
       "</style>\n",
       "<table border=\"1\" class=\"dataframe\">\n",
       "  <thead>\n",
       "    <tr style=\"text-align: right;\">\n",
       "      <th></th>\n",
       "      <th>user_id</th>\n",
       "      <th>activity_start_dt</th>\n",
       "      <th>fact_reaction_dt</th>\n",
       "      <th>time_deal</th>\n",
       "      <th>time_deal_min</th>\n",
       "      <th>time_deal_hours</th>\n",
       "      <th>time_deal_day</th>\n",
       "    </tr>\n",
       "  </thead>\n",
       "  <tbody>\n",
       "    <tr>\n",
       "      <th>0</th>\n",
       "      <td>100 000 095</td>\n",
       "      <td>2015-10-14 14:12:00</td>\n",
       "      <td>2015-10-14 14:15:00</td>\n",
       "      <td>0 days 00:03:00</td>\n",
       "      <td>3.0</td>\n",
       "      <td>0.050000</td>\n",
       "      <td>0.002083</td>\n",
       "    </tr>\n",
       "    <tr>\n",
       "      <th>1</th>\n",
       "      <td>100 000 209</td>\n",
       "      <td>2015-10-10 18:06:00</td>\n",
       "      <td>2015-10-14 19:30:00</td>\n",
       "      <td>4 days 01:24:00</td>\n",
       "      <td>5844.0</td>\n",
       "      <td>97.400000</td>\n",
       "      <td>4.058333</td>\n",
       "    </tr>\n",
       "    <tr>\n",
       "      <th>2</th>\n",
       "      <td>100 000 217</td>\n",
       "      <td>2015-11-09 17:43:00</td>\n",
       "      <td>2015-11-15 11:48:00</td>\n",
       "      <td>5 days 18:05:00</td>\n",
       "      <td>8285.0</td>\n",
       "      <td>138.083333</td>\n",
       "      <td>5.753472</td>\n",
       "    </tr>\n",
       "    <tr>\n",
       "      <th>3</th>\n",
       "      <td>100 000 232</td>\n",
       "      <td>2015-09-22 12:54:00</td>\n",
       "      <td>2015-09-22 13:21:00</td>\n",
       "      <td>0 days 00:27:00</td>\n",
       "      <td>27.0</td>\n",
       "      <td>0.450000</td>\n",
       "      <td>0.018750</td>\n",
       "    </tr>\n",
       "    <tr>\n",
       "      <th>4</th>\n",
       "      <td>100 000 242</td>\n",
       "      <td>2015-09-15 20:41:00</td>\n",
       "      <td>2015-09-16 18:18:00</td>\n",
       "      <td>0 days 21:37:00</td>\n",
       "      <td>1297.0</td>\n",
       "      <td>21.616667</td>\n",
       "      <td>0.900694</td>\n",
       "    </tr>\n",
       "  </tbody>\n",
       "</table>\n",
       "</div>"
      ],
      "text/plain": [
       "       user_id   activity_start_dt    fact_reaction_dt       time_deal  \\\n",
       "0  100 000 095 2015-10-14 14:12:00 2015-10-14 14:15:00 0 days 00:03:00   \n",
       "1  100 000 209 2015-10-10 18:06:00 2015-10-14 19:30:00 4 days 01:24:00   \n",
       "2  100 000 217 2015-11-09 17:43:00 2015-11-15 11:48:00 5 days 18:05:00   \n",
       "3  100 000 232 2015-09-22 12:54:00 2015-09-22 13:21:00 0 days 00:27:00   \n",
       "4  100 000 242 2015-09-15 20:41:00 2015-09-16 18:18:00 0 days 21:37:00   \n",
       "\n",
       "   time_deal_min  time_deal_hours  time_deal_day  \n",
       "0            3.0         0.050000       0.002083  \n",
       "1         5844.0        97.400000       4.058333  \n",
       "2         8285.0       138.083333       5.753472  \n",
       "3           27.0         0.450000       0.018750  \n",
       "4         1297.0        21.616667       0.900694  "
      ]
     },
     "execution_count": 41,
     "metadata": {},
     "output_type": "execute_result"
    }
   ],
   "source": [
    "user_to_answer.head()"
   ]
  },
  {
   "cell_type": "code",
   "execution_count": 42,
   "metadata": {},
   "outputs": [
    {
     "data": {
      "image/png": "[encoded data removed]",
      "text/plain": [
       "<Figure size 1224x360 with 2 Axes>"
      ]
     },
     "metadata": {},
     "output_type": "display_data"
    }
   ],
   "source": [
    "# Строим график распределния в первые минуты. Делаем срез по минутам от 0 до 60 мин.\n",
    "plt.subplots(figsize=(17,5))\n",
    "plot = user_to_answer.query('0 < time_deal_min < 60 ').boxplot('time_deal_min',\n",
    "                                                                  ax = plt.subplot(1,2,1)\n",
    "                                                                  )\n",
    "plt.ylim(0,60)\n",
    "plt.xlabel('Временной промежуток между обращением и ответом')\n",
    "\n",
    "plot = user_to_answer.query('0 < time_deal_min < 60 ').hist(\n",
    "    'time_deal_min', \n",
    "     range=(1,60), \n",
    "     ax = plt.subplot(1,2,2)\n",
    ")\n",
    "plt.title('Распределение временных промежутков между обращением и ответом')\n",
    "plt.xlabel('Время в минутах');\n",
    "plt.show()"
   ]
  },
  {
   "cell_type": "markdown",
   "metadata": {},
   "source": [
    "В целом, большая часть пользователей получают ответ через 4-8 минут. В среднем, после обращения пользователи получают ответ через 18 минут."
   ]
  },
  {
   "cell_type": "code",
   "execution_count": 43,
   "metadata": {},
   "outputs": [
    {
     "data": {
      "image/png": "[encoded data removed]",
      "text/plain": [
       "<Figure size 1224x360 with 2 Axes>"
      ]
     },
     "metadata": {},
     "output_type": "display_data"
    }
   ],
   "source": [
    "# Строим график распределения в первые несколько часов\n",
    "plt.subplots(figsize=(17,5))\n",
    "plot = user_to_answer.query('1 < time_deal_hours < 24').boxplot('time_deal_hours',\n",
    "                                                                  ax = plt.subplot(1,2,1)\n",
    "                                                                  )\n",
    "plt.ylim(0,30)\n",
    "plt.xlabel('Временной промежуток между обращением и ответом')\n",
    "\n",
    "plot = user_to_answer.query('0 < time_deal_hours < 24 ').hist(\n",
    "    'time_deal_hours', \n",
    "     range=(1,30), \n",
    "     ax = plt.subplot(1,2,2)\n",
    ")\n",
    "plt.title('Распределение временных промежутков между обращением и ответом')\n",
    "plt.xlabel('Время в часах');\n",
    "plt.show()"
   ]
  },
  {
   "cell_type": "markdown",
   "metadata": {},
   "source": [
    "Основная часть пользователей получает ответ через 1-4 часа. В среднем, через 6 часов."
   ]
  },
  {
   "cell_type": "code",
   "execution_count": 44,
   "metadata": {},
   "outputs": [
    {
     "data": {
      "image/png": "[encoded data removed]",
      "text/plain": [
       "<Figure size 1224x360 with 2 Axes>"
      ]
     },
     "metadata": {},
     "output_type": "display_data"
    }
   ],
   "source": [
    "plt.subplots(figsize=(17,5))\n",
    "plot = user_to_answer.query('1 < time_deal_day').boxplot('time_deal_day',\n",
    "                                                                  ax = plt.subplot(1,2,1)\n",
    "                                                                  )\n",
    "plt.ylim(0,120)\n",
    "plt.xlabel('Временной промежуток между обращением и ответом')\n",
    "\n",
    "plot = user_to_answer.query('0 < time_deal_day').hist(\n",
    "    'time_deal_day', \n",
    "     range=(1,60), \n",
    "     ax = plt.subplot(1,2,2)\n",
    ")\n",
    "plt.title('Распределение временных промежутков между обращением и ответом')\n",
    "plt.xlabel('День');\n",
    "plt.show()"
   ]
  },
  {
   "cell_type": "markdown",
   "metadata": {},
   "source": [
    "В целом, пользователи получают ответ через 1-3 дня. В среднем, через 3 дня. Однако, есть значения через 10 и 20 дней."
   ]
  },
  {
   "cell_type": "code",
   "execution_count": 45,
   "metadata": {},
   "outputs": [],
   "source": [
    "# Посмотрим долю ожидания ответа в указанные периоды. \n",
    "minute = ((user_to_answer.query('time_deal_min < 60')['time_deal_min'].count()\n",
    "          / user_to_answer.query('time_deal_min > 0')['time_deal_min'].count())\n",
    "          * 100)\n",
    "\n",
    "hours = ((user_to_answer.query('1 < time_deal_hours')['time_deal_hours'].count()\n",
    "          / user_to_answer.query('time_deal_hours > 0')['time_deal_hours'].count())\n",
    "          * 100)\n",
    "\n",
    "days = ((user_to_answer.query('1 < time_deal_day < 24')['time_deal_day'].count()\n",
    "          / user_to_answer.query('time_deal_day > 0')['time_deal_day'].count())\n",
    "          * 100)"
   ]
  },
  {
   "cell_type": "code",
   "execution_count": 46,
   "metadata": {},
   "outputs": [
    {
     "name": "stdout",
     "output_type": "stream",
     "text": [
      "Процент ответов тех.поддержки в первые минуты: 19 %\n",
      "\n",
      "Процент ответов тех.поддержки в первые несколько часов: 80 %\n",
      "\n",
      "Процент ответов тех.поддержки в первые несколько дней: 42 %\n"
     ]
    }
   ],
   "source": [
    "print('Процент ответов тех.поддержки в первые минуты:', int(minute), '%')\n",
    "print()\n",
    "print('Процент ответов тех.поддержки в первые несколько часов:', int(hours), '%')\n",
    "print()\n",
    "print('Процент ответов тех.поддержки в первые несколько дней:', int(days), '%')"
   ]
  },
  {
   "cell_type": "markdown",
   "metadata": {},
   "source": [
    "### Вывод\n",
    "\n",
    "В основном время ожидания ответа от тех.поддержки ранжируется на несколько групп (по минутам, часам и дням):\n",
    "\n",
    "- Есть быстрые ответы через 4-8 минут. Но среднее время ожидания ответа составляет 18 минут — доля в 19% \n",
    "- Есть быстрые ответы через 1-5 часов. Но среднее время ожидания ответа составляет 6 часов — доля в 80%\n",
    "- Есть быстрые ответы через 1-3 дня. Но средрее время ожидания ответа составляет 3 дня — доля в 42%\n",
    "\n",
    "**Таким образом**, большая часть ответов приходится на длительное время ожидания от 6 часов до 3х дней. Предположительно, такая работа тех.поддержки не эффективна и негативно сказывается на лояльности пользователей. \n",
    "\n",
    "Разброс по времени ожидания от нескольких минут до часов может быть связан характером и трудностью решения проблемы, которые можно попробовать определить через тему обращения пользователя. Запредельно долгие ответы (через 20, 30 дней), могут быть связаны с проблемами в системе работы тех.поддержки. Но это не является задачей данного исследования. "
   ]
  },
  {
   "cell_type": "markdown",
   "metadata": {},
   "source": [
    "### Изучим влияние негативной оценки и времени"
   ]
  },
  {
   "cell_type": "markdown",
   "metadata": {},
   "source": [
    "Для этого, сначала определим связь между негативной оценкой и временем. Предположим, что:\n",
    "\n",
    "- случаи положительной оценки от пользователя и опр.временной показатель соответствуют решению проблемы пользователя; \n",
    "- случаи отрицательной оценки от пользователя и длительное время ожидания ответа соответствуют недовольству в отношении длительного ожидания ответа;\n",
    "- случаи отрицательной оценки от пользователя и короткого времени ожидания ответа соответствуют не решённой проблеме."
   ]
  },
  {
   "cell_type": "code",
   "execution_count": 47,
   "metadata": {},
   "outputs": [
    {
     "data": {
      "text/html": [
       "<div>\n",
       "<style scoped>\n",
       "    .dataframe tbody tr th:only-of-type {\n",
       "        vertical-align: middle;\n",
       "    }\n",
       "\n",
       "    .dataframe tbody tr th {\n",
       "        vertical-align: top;\n",
       "    }\n",
       "\n",
       "    .dataframe thead th {\n",
       "        text-align: right;\n",
       "    }\n",
       "</style>\n",
       "<table border=\"1\" class=\"dataframe\">\n",
       "  <thead>\n",
       "    <tr style=\"text-align: right;\">\n",
       "      <th></th>\n",
       "      <th>user_id</th>\n",
       "      <th>ticket_category</th>\n",
       "      <th>ticket_subcategory</th>\n",
       "      <th>current_state</th>\n",
       "      <th>request_id</th>\n",
       "      <th>activity_start_dt</th>\n",
       "      <th>fact_reaction_dt</th>\n",
       "      <th>date</th>\n",
       "      <th>duration</th>\n",
       "      <th>result_mentioned_by_user</th>\n",
       "    </tr>\n",
       "  </thead>\n",
       "  <tbody>\n",
       "    <tr>\n",
       "      <th>0</th>\n",
       "      <td>370 518 212</td>\n",
       "      <td>Технические вопросы</td>\n",
       "      <td>Доступ к сайту</td>\n",
       "      <td>Решено</td>\n",
       "      <td>045be6ac-d532-4c20-b1c9-fb82c1737464</td>\n",
       "      <td>2015-11-26 22:56:00</td>\n",
       "      <td>2015-12-03 12:11:00</td>\n",
       "      <td>2015-11-26</td>\n",
       "      <td>47700</td>\n",
       "      <td>Хорошо</td>\n",
       "    </tr>\n",
       "    <tr>\n",
       "      <th>1</th>\n",
       "      <td>372 546 513</td>\n",
       "      <td>Технические вопросы</td>\n",
       "      <td>Загрузка фото</td>\n",
       "      <td>Решено</td>\n",
       "      <td>280bf0e6-6c0c-4eb1-b093-ac2eadd20cdb</td>\n",
       "      <td>2015-12-11 13:39:00</td>\n",
       "      <td>2015-12-16 05:20:00</td>\n",
       "      <td>2015-12-11</td>\n",
       "      <td>56460</td>\n",
       "      <td>Отлично</td>\n",
       "    </tr>\n",
       "    <tr>\n",
       "      <th>2</th>\n",
       "      <td>369 694 997</td>\n",
       "      <td>Технические вопросы</td>\n",
       "      <td>Доступ к сайту</td>\n",
       "      <td>Решено</td>\n",
       "      <td>045a97f4-4747-45e0-a3a9-441081e06c08</td>\n",
       "      <td>2015-12-17 22:46:00</td>\n",
       "      <td>2015-12-20 20:59:00</td>\n",
       "      <td>2015-12-17</td>\n",
       "      <td>79980</td>\n",
       "      <td>Отлично</td>\n",
       "    </tr>\n",
       "    <tr>\n",
       "      <th>3</th>\n",
       "      <td>3 254 820</td>\n",
       "      <td>Технические вопросы</td>\n",
       "      <td>Доступ к сайту</td>\n",
       "      <td>Решено</td>\n",
       "      <td>6d12e450-7aee-4842-b9cf-ee9a2824f892</td>\n",
       "      <td>2015-09-04 12:20:00</td>\n",
       "      <td>2015-09-05 10:02:00</td>\n",
       "      <td>2015-09-04</td>\n",
       "      <td>78120</td>\n",
       "      <td>Отлично</td>\n",
       "    </tr>\n",
       "    <tr>\n",
       "      <th>4</th>\n",
       "      <td>366 077 368</td>\n",
       "      <td>Технические вопросы</td>\n",
       "      <td>Доступ к сайту</td>\n",
       "      <td>Решено</td>\n",
       "      <td>f25c8846-9e55-4b15-9a27-6e24ca9e7922</td>\n",
       "      <td>2015-11-11 10:54:00</td>\n",
       "      <td>2015-11-14 08:53:00</td>\n",
       "      <td>2015-11-11</td>\n",
       "      <td>79140</td>\n",
       "      <td>Хорошо</td>\n",
       "    </tr>\n",
       "  </tbody>\n",
       "</table>\n",
       "</div>"
      ],
      "text/plain": [
       "       user_id      ticket_category ticket_subcategory current_state  \\\n",
       "0  370 518 212  Технические вопросы     Доступ к сайту        Решено   \n",
       "1  372 546 513  Технические вопросы      Загрузка фото        Решено   \n",
       "2  369 694 997  Технические вопросы     Доступ к сайту        Решено   \n",
       "3    3 254 820  Технические вопросы     Доступ к сайту        Решено   \n",
       "4  366 077 368  Технические вопросы     Доступ к сайту        Решено   \n",
       "\n",
       "                             request_id   activity_start_dt  \\\n",
       "0  045be6ac-d532-4c20-b1c9-fb82c1737464 2015-11-26 22:56:00   \n",
       "1  280bf0e6-6c0c-4eb1-b093-ac2eadd20cdb 2015-12-11 13:39:00   \n",
       "2  045a97f4-4747-45e0-a3a9-441081e06c08 2015-12-17 22:46:00   \n",
       "3  6d12e450-7aee-4842-b9cf-ee9a2824f892 2015-09-04 12:20:00   \n",
       "4  f25c8846-9e55-4b15-9a27-6e24ca9e7922 2015-11-11 10:54:00   \n",
       "\n",
       "     fact_reaction_dt        date  duration result_mentioned_by_user  \n",
       "0 2015-12-03 12:11:00  2015-11-26     47700                   Хорошо  \n",
       "1 2015-12-16 05:20:00  2015-12-11     56460                  Отлично  \n",
       "2 2015-12-20 20:59:00  2015-12-17     79980                  Отлично  \n",
       "3 2015-09-05 10:02:00  2015-09-04     78120                  Отлично  \n",
       "4 2015-11-14 08:53:00  2015-11-11     79140                   Хорошо  "
      ]
     },
     "execution_count": 47,
     "metadata": {},
     "output_type": "execute_result"
    }
   ],
   "source": [
    "# Объединяем таблицы\n",
    "merge_support_data =  support_t.merge(users_evaluation, on='request_id')\n",
    "merge_support_data.head()"
   ]
  },
  {
   "cell_type": "code",
   "execution_count": 48,
   "metadata": {},
   "outputs": [
    {
     "data": {
      "text/plain": [
       "(120420, 10)"
      ]
     },
     "execution_count": 48,
     "metadata": {},
     "output_type": "execute_result"
    }
   ],
   "source": [
    "merge_support_data.shape"
   ]
  },
  {
   "cell_type": "markdown",
   "metadata": {},
   "source": [
    "Потеряли часть значений, видимо request_id не всегда является уникальным. Нужно узнать почему произошла такая выгрузка"
   ]
  },
  {
   "cell_type": "code",
   "execution_count": 49,
   "metadata": {},
   "outputs": [],
   "source": [
    "good_group = merge_support_data[merge_support_data.result_mentioned_by_user == 'Отлично']\n",
    "not_good_group = merge_support_data[merge_support_data.result_mentioned_by_user == 'Не удовлетворительно']"
   ]
  },
  {
   "cell_type": "code",
   "execution_count": 50,
   "metadata": {},
   "outputs": [
    {
     "data": {
      "text/plain": [
       "18300.0"
      ]
     },
     "execution_count": 50,
     "metadata": {},
     "output_type": "execute_result"
    }
   ],
   "source": [
    "good_group.duration.median()"
   ]
  },
  {
   "cell_type": "code",
   "execution_count": 51,
   "metadata": {},
   "outputs": [
    {
     "data": {
      "text/plain": [
       "24300.0"
      ]
     },
     "execution_count": 51,
     "metadata": {},
     "output_type": "execute_result"
    }
   ],
   "source": [
    "not_good_group.duration.median()"
   ]
  },
  {
   "cell_type": "markdown",
   "metadata": {},
   "source": [
    "Среднее время ожидание ответа в группе пользователей с положительной оценкой составляет 5 часов, в другой группе — 6 с половиной."
   ]
  },
  {
   "cell_type": "markdown",
   "metadata": {},
   "source": [
    "Мы также рассчитали средние значения по времени ожидания в минутах, часах и днях для двух групп.\n",
    "\n",
    "В ячейке ниже представлен код для рассчётов, он отчасти дублирует наше предыдущее решение. В целях оптимизации времени и визуальной составляюще данной работы, графики решено было не выводить."
   ]
  },
  {
   "cell_type": "code",
   "execution_count": 52,
   "metadata": {},
   "outputs": [],
   "source": [
    "# Группировка времени ожидания по пользователям и выбор первой даты обращения\n",
    "good_user_grouped = good_group.groupby('user_id').agg({'activity_start_dt':'min'}).reset_index()\n",
    "\n",
    "# Группировка времени ответов по пользователям и выбор первой даты ответа\n",
    "good_teh_answer_grouped = good_group.groupby('user_id').agg({'fact_reaction_dt':'min'})\n",
    "\n",
    "# Объединяем данные о первом обращение и первом ответе по пользователям в одну таблицу\n",
    "good_user_to_answer = pd.merge(good_user_grouped, good_teh_answer_grouped, on='user_id')\n",
    "\n",
    "# Рассчитываем время между обращением и ответом\n",
    "good_user_to_answer['time_deal'] = good_user_to_answer['fact_reaction_dt'] - good_user_to_answer['activity_start_dt']\n",
    "\n",
    "good_user_to_answer['time_deal_min'] = (good_user_to_answer.fact_reaction_dt - good_user_to_answer.activity_start_dt) / np.timedelta64(1, 'm')\n",
    "good_user_to_answer['time_deal_hours'] = (good_user_to_answer.fact_reaction_dt - good_user_to_answer.activity_start_dt) / np.timedelta64(1, 'h')\n",
    "good_user_to_answer['time_deal_day'] = (good_user_to_answer.fact_reaction_dt - good_user_to_answer.activity_start_dt) / np.timedelta64(1, 'D')"
   ]
  },
  {
   "cell_type": "markdown",
   "metadata": {},
   "source": [
    "Расчёты для группы с негтаивной оценкой"
   ]
  },
  {
   "cell_type": "code",
   "execution_count": 53,
   "metadata": {},
   "outputs": [],
   "source": [
    "# Группировка времени ожидания по пользователям и выбор первой даты обращения\n",
    "not_good_user_grouped = not_good_group.groupby('user_id').agg({'activity_start_dt':'min'}).reset_index()\n",
    "\n",
    "# Группировка времени ответов по пользователям и выбор первой даты ответа\n",
    "not_good_teh_answer_grouped = not_good_group.groupby('user_id').agg({'fact_reaction_dt':'min'})\n",
    "\n",
    "# Объединяем данные о первом обращение и первом ответе по пользователям в одну таблицу\n",
    "not_good_user_to_answer = pd.merge(not_good_user_grouped, not_good_teh_answer_grouped, on='user_id')\n",
    "\n",
    "# Рассчитываем время между обращением и ответом\n",
    "not_good_user_to_answer['time_deal'] = not_good_user_to_answer['fact_reaction_dt'] - not_good_user_to_answer['activity_start_dt']\n",
    "\n",
    "not_good_user_to_answer['time_deal_min'] = (not_good_user_to_answer.fact_reaction_dt - not_good_user_to_answer.activity_start_dt) / np.timedelta64(1, 'm')\n",
    "not_good_user_to_answer['time_deal_hours'] = (not_good_user_to_answer.fact_reaction_dt - not_good_user_to_answer.activity_start_dt) / np.timedelta64(1, 'h')\n",
    "not_good_user_to_answer['time_deal_day'] = (not_good_user_to_answer.fact_reaction_dt - not_good_user_to_answer.activity_start_dt) / np.timedelta64(1, 'D')"
   ]
  },
  {
   "cell_type": "code",
   "execution_count": 54,
   "metadata": {},
   "outputs": [
    {
     "data": {
      "text/plain": [
       "count                     53693\n",
       "mean     2 days 00:30:41.756281\n",
       "std      3 days 22:09:52.654519\n",
       "min           -1 days +23:59:00\n",
       "25%             0 days 01:38:00\n",
       "50%             0 days 17:54:00\n",
       "75%             2 days 11:38:00\n",
       "max           111 days 18:36:00\n",
       "Name: time_deal, dtype: object"
      ]
     },
     "execution_count": 54,
     "metadata": {},
     "output_type": "execute_result"
    }
   ],
   "source": [
    "good_user_to_answer['time_deal'].describe()"
   ]
  },
  {
   "cell_type": "code",
   "execution_count": 55,
   "metadata": {},
   "outputs": [
    {
     "data": {
      "text/plain": [
       "count                     20616\n",
       "mean     3 days 06:41:29.761350\n",
       "std      5 days 13:22:55.287219\n",
       "min           -1 days +23:43:00\n",
       "25%             0 days 04:33:00\n",
       "50%             1 days 02:39:00\n",
       "75%             4 days 13:15:45\n",
       "max            97 days 00:05:00\n",
       "Name: time_deal, dtype: object"
      ]
     },
     "execution_count": 55,
     "metadata": {},
     "output_type": "execute_result"
    }
   ],
   "source": [
    "not_good_user_to_answer['time_deal'].describe()"
   ]
  },
  {
   "cell_type": "markdown",
   "metadata": {},
   "source": [
    "### Вывод\n",
    "\n",
    "В целом в группе пользователей с негативной оценкой преобладает длительное время ожидания ответа от тех.поддержки в сравнеии с другой группой.\n",
    "\n",
    "Среднее время ожидания ответов в минутах, часах, днях:\n",
    "\n",
    "Группа с положительной оценкой / группа с отрицательной оценкой\n",
    "\n",
    "                    18 минут / 20 минут\n",
    "                     5 часов / 7 часов\n",
    "                       2 дня / 4 дня\n",
    "                       \n",
    "                       \n",
    "Таким образом, в группе с негативной оценкой либо не решена проблема пользователя, либо превышено терпимое время ожидания ответа."
   ]
  },
  {
   "cell_type": "markdown",
   "metadata": {},
   "source": [
    "### Проверим нашу гипотезу методами статистики"
   ]
  },
  {
   "cell_type": "code",
   "execution_count": 56,
   "metadata": {},
   "outputs": [],
   "source": [
    "import math \n",
    "from scipy import stats as st"
   ]
  },
  {
   "cell_type": "markdown",
   "metadata": {},
   "source": [
    "**Анализируем различие в среднем времени ответа по двум группам**\n",
    "\n",
    "Сначала мы проверим нормальность распределение для нашей гипотезы. В данном случае, распространённый тест Шапиро-Уилка не подойдёт, так как наши значение превышают максимальный порог для данного теста. Поэтому для анализа мы будем использовать тест Андерсона-Дарлинга. По дефолту он проверяет распределение на нормальность.\n",
    "\n",
    "- Нулевая гипотеза: распределение нормальное\n",
    "- Альтернативная гипотеза: распределение не нормальное."
   ]
  },
  {
   "cell_type": "code",
   "execution_count": 57,
   "metadata": {},
   "outputs": [
    {
     "name": "stdout",
     "output_type": "stream",
     "text": [
      "p-значение:  5189.0\n",
      "Не получилось отвергнуть нулевую гипотезу, всё нормально\n"
     ]
    }
   ],
   "source": [
    "alpha = .05 # критический уровень статистической значимости\n",
    "\n",
    "results = st.anderson(good_user_to_answer['time_deal_min']\n",
    "                    )\n",
    "p_value = not_good_user_to_answer['time_deal_min'][1] # второе значение в массиве результатов (с индексом 1) - p-value\n",
    "\n",
    "print('p-значение: ', p_value)\n",
    "\n",
    "if (p_value < alpha):\n",
    "    print(\"Отвергаем нулевую гипотезу: распределение не нормально\")\n",
    "else:\n",
    "    print(\"Не получилось отвергнуть нулевую гипотезу, всё нормально\")"
   ]
  },
  {
   "cell_type": "markdown",
   "metadata": {},
   "source": [
    "Для нормального распределения будем использовать тест Стьюдента — t-тест\n",
    "\n",
    "**Гипотеза**: Cреднее время ожидания ответа от пользователей с негативной оценкой не отличается от пользователей с положительной оценкой\n",
    "\n",
    "Нулевая гипотеза **Н₀:**\n",
    "\n",
    "Среднее время в минутах — одинаковое.\n",
    "\n",
    "Альтернативная гипотеза **Н₁**:\n",
    "\n",
    "Среднее время в минутах — отличается.\n",
    "\n",
    "Пороговое значение alpha (критический уровень стат. значимости) задаем равным 5% (принятное, стандартное значение)"
   ]
  },
  {
   "cell_type": "code",
   "execution_count": 58,
   "metadata": {},
   "outputs": [
    {
     "name": "stdout",
     "output_type": "stream",
     "text": [
      "p-значение:  4.8297188846595226e-260\n",
      "Отвергаем нулевую гипотезу: разница статистически значима\n"
     ]
    }
   ],
   "source": [
    "alpha = .05 # критический уровень статистической значимости\n",
    "\n",
    "results = st.ttest_ind(good_user_to_answer['time_deal_min'], \n",
    "                       not_good_user_to_answer['time_deal_min'])\n",
    "\n",
    "print('p-значение: ', results.pvalue)\n",
    "\n",
    "if (results.pvalue < alpha):\n",
    "    print(\"Отвергаем нулевую гипотезу: разница статистически значима\")\n",
    "else:\n",
    "    print(\"Не получилось отвергнуть нулевую гипотезу, вывод о различии сделать нельзя\")"
   ]
  },
  {
   "cell_type": "markdown",
   "metadata": {},
   "source": [
    "**Таким образом**, среднее время ожидания ответа от тех.поддержки группы пользователей с негативной оценкой значительно дольше, в сравнении с другой группой. Разница статистически значима.\n",
    "\n",
    "Несмотря на то, что в данных преобладают пользователи с положительной оценкой и с допустимым временем ожидания, мы рассмотрим как влияет группа «нелояльных» пользователей на примерный урон для сайта Маргарито."
   ]
  },
  {
   "cell_type": "markdown",
   "metadata": {},
   "source": [
    "### Изучим негативное влияние на сайт Маргарито от группы «нелояльных» пользователей"
   ]
  },
  {
   "cell_type": "markdown",
   "metadata": {},
   "source": [
    "Таким образом, мы выделили группу нелояльных пользователей с негативной оценкой, по которым будем сравнивать урон для сайта"
   ]
  },
  {
   "cell_type": "code",
   "execution_count": 59,
   "metadata": {},
   "outputs": [
    {
     "data": {
      "text/html": [
       "<div>\n",
       "<style scoped>\n",
       "    .dataframe tbody tr th:only-of-type {\n",
       "        vertical-align: middle;\n",
       "    }\n",
       "\n",
       "    .dataframe tbody tr th {\n",
       "        vertical-align: top;\n",
       "    }\n",
       "\n",
       "    .dataframe thead th {\n",
       "        text-align: right;\n",
       "    }\n",
       "</style>\n",
       "<table border=\"1\" class=\"dataframe\">\n",
       "  <thead>\n",
       "    <tr style=\"text-align: right;\">\n",
       "      <th></th>\n",
       "      <th>user_id</th>\n",
       "      <th>user_registration_time</th>\n",
       "      <th>user_first_listing_date</th>\n",
       "      <th>item_id</th>\n",
       "      <th>item_starttime</th>\n",
       "      <th>item_category</th>\n",
       "      <th>item_subcategory</th>\n",
       "    </tr>\n",
       "  </thead>\n",
       "  <tbody>\n",
       "    <tr>\n",
       "      <th>0</th>\n",
       "      <td>386 341 477</td>\n",
       "      <td>2013-05-27 14:40:09</td>\n",
       "      <td>2013-05-27 14:40:09</td>\n",
       "      <td>8 523 500 011</td>\n",
       "      <td>2014-01-01 02:22:54</td>\n",
       "      <td>Транспорт</td>\n",
       "      <td>Автомобили</td>\n",
       "    </tr>\n",
       "    <tr>\n",
       "      <th>1</th>\n",
       "      <td>6 790 750 024</td>\n",
       "      <td>2013-12-14 23:05:15</td>\n",
       "      <td>2013-12-14 23:27:04</td>\n",
       "      <td>8 525 000 013</td>\n",
       "      <td>2014-01-01 02:45:56</td>\n",
       "      <td>Транспорт</td>\n",
       "      <td>Запчасти и аксессуары</td>\n",
       "    </tr>\n",
       "    <tr>\n",
       "      <th>2</th>\n",
       "      <td>2 755 740</td>\n",
       "      <td>2011-04-14 17:54:40</td>\n",
       "      <td>2011-04-14 18:05:27</td>\n",
       "      <td>8 527 000 043</td>\n",
       "      <td>2014-01-01 03:29:44</td>\n",
       "      <td>Транспорт</td>\n",
       "      <td>Автомобили</td>\n",
       "    </tr>\n",
       "    <tr>\n",
       "      <th>3</th>\n",
       "      <td>506 779</td>\n",
       "      <td>2011-08-14 06:19:11</td>\n",
       "      <td>2011-08-14 06:50:04</td>\n",
       "      <td>8 530 000 039</td>\n",
       "      <td>2014-01-01 04:34:51</td>\n",
       "      <td>Личные вещи</td>\n",
       "      <td>Красота и здоровье</td>\n",
       "    </tr>\n",
       "    <tr>\n",
       "      <th>4</th>\n",
       "      <td>766 896</td>\n",
       "      <td>2013-05-17 11:32:13</td>\n",
       "      <td>2013-06-05 06:05:09</td>\n",
       "      <td>8 534 500 187</td>\n",
       "      <td>2014-01-01 06:07:58</td>\n",
       "      <td>Недвижимость</td>\n",
       "      <td>Дома, дачи, коттеджи</td>\n",
       "    </tr>\n",
       "  </tbody>\n",
       "</table>\n",
       "</div>"
      ],
      "text/plain": [
       "         user_id user_registration_time user_first_listing_date  \\\n",
       "0    386 341 477    2013-05-27 14:40:09     2013-05-27 14:40:09   \n",
       "1  6 790 750 024    2013-12-14 23:05:15     2013-12-14 23:27:04   \n",
       "2      2 755 740    2011-04-14 17:54:40     2011-04-14 18:05:27   \n",
       "3        506 779    2011-08-14 06:19:11     2011-08-14 06:50:04   \n",
       "4        766 896    2013-05-17 11:32:13     2013-06-05 06:05:09   \n",
       "\n",
       "         item_id       item_starttime item_category       item_subcategory  \n",
       "0  8 523 500 011  2014-01-01 02:22:54     Транспорт             Автомобили  \n",
       "1  8 525 000 013  2014-01-01 02:45:56     Транспорт  Запчасти и аксессуары  \n",
       "2  8 527 000 043  2014-01-01 03:29:44     Транспорт             Автомобили  \n",
       "3  8 530 000 039  2014-01-01 04:34:51   Личные вещи     Красота и здоровье  \n",
       "4  8 534 500 187  2014-01-01 06:07:58  Недвижимость   Дома, дачи, коттеджи  "
      ]
     },
     "execution_count": 59,
     "metadata": {},
     "output_type": "execute_result"
    }
   ],
   "source": [
    "table_by_support.head()"
   ]
  },
  {
   "cell_type": "code",
   "execution_count": 60,
   "metadata": {},
   "outputs": [
    {
     "data": {
      "text/plain": [
       "(18559923, 7)"
      ]
     },
     "execution_count": 60,
     "metadata": {},
     "output_type": "execute_result"
    }
   ],
   "source": [
    "table_by_support.shape"
   ]
  },
  {
   "cell_type": "code",
   "execution_count": 61,
   "metadata": {},
   "outputs": [],
   "source": [
    "table_by_support['user_registration_time'] = pd.to_datetime(\n",
    "    table_by_support['user_registration_time'], \n",
    "    format='%Y-%m-%d %H:%M:%S'\n",
    ")\n",
    "table_by_support['user_first_listing_date'] = pd.to_datetime(\n",
    "    table_by_support['user_first_listing_date'],\n",
    "    format='%Y-%m-%d %H:%M:%S' \n",
    ")\n",
    "table_by_support['item_starttime'] = pd.to_datetime(\n",
    "    table_by_support['item_starttime'],\n",
    "    format='%Y-%m-%d %H:%M:%S' \n",
    ")"
   ]
  },
  {
   "cell_type": "markdown",
   "metadata": {},
   "source": [
    "### Изучим распределение среднего количества публикуемых объявлений для каждого пользователя"
   ]
  },
  {
   "cell_type": "code",
   "execution_count": 62,
   "metadata": {},
   "outputs": [
    {
     "data": {
      "image/png": "[encoded data removed]",
      "text/plain": [
       "<Figure size 1224x360 with 1 Axes>"
      ]
     },
     "metadata": {},
     "output_type": "display_data"
    }
   ],
   "source": [
    "plt.subplots(figsize=(17,5))\n",
    "\n",
    "\n",
    "plot = table_by_support.pivot_table(index = 'user_id',\n",
    "                                            values = 'item_id',\n",
    "                                            aggfunc = 'count').boxplot('item_id',\n",
    "                                            ).set_ylim([0, 60])\n",
    "\n",
    "plt.title('Распределение количества объявлений по пользователям');"
   ]
  },
  {
   "cell_type": "code",
   "execution_count": 63,
   "metadata": {},
   "outputs": [
    {
     "data": {
      "text/html": [
       "<div>\n",
       "<style scoped>\n",
       "    .dataframe tbody tr th:only-of-type {\n",
       "        vertical-align: middle;\n",
       "    }\n",
       "\n",
       "    .dataframe tbody tr th {\n",
       "        vertical-align: top;\n",
       "    }\n",
       "\n",
       "    .dataframe thead th {\n",
       "        text-align: right;\n",
       "    }\n",
       "</style>\n",
       "<table border=\"1\" class=\"dataframe\">\n",
       "  <thead>\n",
       "    <tr style=\"text-align: right;\">\n",
       "      <th></th>\n",
       "      <th>user_id</th>\n",
       "      <th>item_id</th>\n",
       "    </tr>\n",
       "    <tr>\n",
       "      <th>user_id</th>\n",
       "      <th></th>\n",
       "      <th></th>\n",
       "    </tr>\n",
       "  </thead>\n",
       "  <tbody>\n",
       "    <tr>\n",
       "      <th>100 000 095</th>\n",
       "      <td>1</td>\n",
       "      <td>109</td>\n",
       "    </tr>\n",
       "    <tr>\n",
       "      <th>100 000 209</th>\n",
       "      <td>1</td>\n",
       "      <td>15</td>\n",
       "    </tr>\n",
       "    <tr>\n",
       "      <th>100 000 217</th>\n",
       "      <td>1</td>\n",
       "      <td>15</td>\n",
       "    </tr>\n",
       "    <tr>\n",
       "      <th>100 000 232</th>\n",
       "      <td>1</td>\n",
       "      <td>144</td>\n",
       "    </tr>\n",
       "    <tr>\n",
       "      <th>100 000 242</th>\n",
       "      <td>1</td>\n",
       "      <td>205</td>\n",
       "    </tr>\n",
       "  </tbody>\n",
       "</table>\n",
       "</div>"
      ],
      "text/plain": [
       "             user_id  item_id\n",
       "user_id                      \n",
       "100 000 095        1      109\n",
       "100 000 209        1       15\n",
       "100 000 217        1       15\n",
       "100 000 232        1      144\n",
       "100 000 242        1      205"
      ]
     },
     "execution_count": 63,
     "metadata": {},
     "output_type": "execute_result"
    }
   ],
   "source": [
    "group_ads = table_by_support.groupby('user_id').agg({'user_id':'nunique','item_id':'count'})\n",
    "group_ads.head()"
   ]
  },
  {
   "cell_type": "code",
   "execution_count": 64,
   "metadata": {},
   "outputs": [
    {
     "data": {
      "text/plain": [
       "16.0"
      ]
     },
     "execution_count": 64,
     "metadata": {},
     "output_type": "execute_result"
    }
   ],
   "source": [
    "group_ads_median = group_ads.item_id.median()\n",
    "group_ads_median"
   ]
  },
  {
   "cell_type": "markdown",
   "metadata": {},
   "source": [
    "Примерно 16 объявлений публикует каждый пользователь"
   ]
  },
  {
   "cell_type": "markdown",
   "metadata": {},
   "source": [
    "**Объединим два фрейма и выделим две группы: с неудовлетворительной оценкой и все остальные.**"
   ]
  },
  {
   "cell_type": "code",
   "execution_count": 65,
   "metadata": {},
   "outputs": [
    {
     "data": {
      "text/html": [
       "<div>\n",
       "<style scoped>\n",
       "    .dataframe tbody tr th:only-of-type {\n",
       "        vertical-align: middle;\n",
       "    }\n",
       "\n",
       "    .dataframe tbody tr th {\n",
       "        vertical-align: top;\n",
       "    }\n",
       "\n",
       "    .dataframe thead th {\n",
       "        text-align: right;\n",
       "    }\n",
       "</style>\n",
       "<table border=\"1\" class=\"dataframe\">\n",
       "  <thead>\n",
       "    <tr style=\"text-align: right;\">\n",
       "      <th></th>\n",
       "      <th>user_id</th>\n",
       "      <th>user_registration_time</th>\n",
       "      <th>user_first_listing_date</th>\n",
       "      <th>item_id</th>\n",
       "      <th>item_starttime</th>\n",
       "      <th>item_category</th>\n",
       "      <th>item_subcategory</th>\n",
       "      <th>ticket_category</th>\n",
       "      <th>ticket_subcategory</th>\n",
       "      <th>current_state</th>\n",
       "      <th>request_id</th>\n",
       "      <th>activity_start_dt</th>\n",
       "      <th>fact_reaction_dt</th>\n",
       "      <th>date</th>\n",
       "      <th>duration</th>\n",
       "      <th>result_mentioned_by_user</th>\n",
       "    </tr>\n",
       "  </thead>\n",
       "  <tbody>\n",
       "    <tr>\n",
       "      <th>0</th>\n",
       "      <td>386 341 477</td>\n",
       "      <td>2013-05-27 14:40:09</td>\n",
       "      <td>2013-05-27 14:40:09</td>\n",
       "      <td>8 523 500 011</td>\n",
       "      <td>2014-01-01 02:22:54</td>\n",
       "      <td>Транспорт</td>\n",
       "      <td>Автомобили</td>\n",
       "      <td>Платные услуги и сервисы</td>\n",
       "      <td>Пополнение кошелька</td>\n",
       "      <td>Решено</td>\n",
       "      <td>0fc421a6-b171-4aa3-acf9-397886583a2b</td>\n",
       "      <td>2015-11-02 15:48:00</td>\n",
       "      <td>2015-11-07 11:41:00</td>\n",
       "      <td>2015-11-02</td>\n",
       "      <td>71580</td>\n",
       "      <td>Нейтрально</td>\n",
       "    </tr>\n",
       "    <tr>\n",
       "      <th>1</th>\n",
       "      <td>386 341 477</td>\n",
       "      <td>2013-05-27 14:40:09</td>\n",
       "      <td>2013-05-27 14:40:09</td>\n",
       "      <td>8 745 001 122</td>\n",
       "      <td>2014-01-03 21:57:17</td>\n",
       "      <td>Бытовая электроника</td>\n",
       "      <td>Аудио и видео</td>\n",
       "      <td>Платные услуги и сервисы</td>\n",
       "      <td>Пополнение кошелька</td>\n",
       "      <td>Решено</td>\n",
       "      <td>0fc421a6-b171-4aa3-acf9-397886583a2b</td>\n",
       "      <td>2015-11-02 15:48:00</td>\n",
       "      <td>2015-11-07 11:41:00</td>\n",
       "      <td>2015-11-02</td>\n",
       "      <td>71580</td>\n",
       "      <td>Нейтрально</td>\n",
       "    </tr>\n",
       "    <tr>\n",
       "      <th>2</th>\n",
       "      <td>386 341 477</td>\n",
       "      <td>2013-05-27 14:40:09</td>\n",
       "      <td>2013-05-27 14:40:09</td>\n",
       "      <td>9 117 002 008</td>\n",
       "      <td>2014-01-08 13:14:42</td>\n",
       "      <td>Транспорт</td>\n",
       "      <td>Автомобили</td>\n",
       "      <td>Платные услуги и сервисы</td>\n",
       "      <td>Пополнение кошелька</td>\n",
       "      <td>Решено</td>\n",
       "      <td>0fc421a6-b171-4aa3-acf9-397886583a2b</td>\n",
       "      <td>2015-11-02 15:48:00</td>\n",
       "      <td>2015-11-07 11:41:00</td>\n",
       "      <td>2015-11-02</td>\n",
       "      <td>71580</td>\n",
       "      <td>Нейтрально</td>\n",
       "    </tr>\n",
       "  </tbody>\n",
       "</table>\n",
       "</div>"
      ],
      "text/plain": [
       "       user_id user_registration_time user_first_listing_date        item_id  \\\n",
       "0  386 341 477    2013-05-27 14:40:09     2013-05-27 14:40:09  8 523 500 011   \n",
       "1  386 341 477    2013-05-27 14:40:09     2013-05-27 14:40:09  8 745 001 122   \n",
       "2  386 341 477    2013-05-27 14:40:09     2013-05-27 14:40:09  9 117 002 008   \n",
       "\n",
       "       item_starttime        item_category item_subcategory  \\\n",
       "0 2014-01-01 02:22:54            Транспорт       Автомобили   \n",
       "1 2014-01-03 21:57:17  Бытовая электроника    Аудио и видео   \n",
       "2 2014-01-08 13:14:42            Транспорт       Автомобили   \n",
       "\n",
       "            ticket_category   ticket_subcategory current_state  \\\n",
       "0  Платные услуги и сервисы  Пополнение кошелька        Решено   \n",
       "1  Платные услуги и сервисы  Пополнение кошелька        Решено   \n",
       "2  Платные услуги и сервисы  Пополнение кошелька        Решено   \n",
       "\n",
       "                             request_id   activity_start_dt  \\\n",
       "0  0fc421a6-b171-4aa3-acf9-397886583a2b 2015-11-02 15:48:00   \n",
       "1  0fc421a6-b171-4aa3-acf9-397886583a2b 2015-11-02 15:48:00   \n",
       "2  0fc421a6-b171-4aa3-acf9-397886583a2b 2015-11-02 15:48:00   \n",
       "\n",
       "     fact_reaction_dt        date  duration result_mentioned_by_user  \n",
       "0 2015-11-07 11:41:00  2015-11-02     71580               Нейтрально  \n",
       "1 2015-11-07 11:41:00  2015-11-02     71580               Нейтрально  \n",
       "2 2015-11-07 11:41:00  2015-11-02     71580               Нейтрально  "
      ]
     },
     "execution_count": 65,
     "metadata": {},
     "output_type": "execute_result"
    }
   ],
   "source": [
    "new_table = pd.merge(table_by_support, merge_support_data, on='user_id')\n",
    "new_table.head(3)"
   ]
  },
  {
   "cell_type": "markdown",
   "metadata": {},
   "source": [
    "**Группа нелояльных пользователей**"
   ]
  },
  {
   "cell_type": "code",
   "execution_count": 66,
   "metadata": {},
   "outputs": [
    {
     "data": {
      "text/html": [
       "<div>\n",
       "<style scoped>\n",
       "    .dataframe tbody tr th:only-of-type {\n",
       "        vertical-align: middle;\n",
       "    }\n",
       "\n",
       "    .dataframe tbody tr th {\n",
       "        vertical-align: top;\n",
       "    }\n",
       "\n",
       "    .dataframe thead th {\n",
       "        text-align: right;\n",
       "    }\n",
       "</style>\n",
       "<table border=\"1\" class=\"dataframe\">\n",
       "  <thead>\n",
       "    <tr style=\"text-align: right;\">\n",
       "      <th></th>\n",
       "      <th>user_id</th>\n",
       "      <th>user_registration_time</th>\n",
       "      <th>user_first_listing_date</th>\n",
       "      <th>item_id</th>\n",
       "      <th>item_starttime</th>\n",
       "      <th>item_category</th>\n",
       "      <th>item_subcategory</th>\n",
       "      <th>ticket_category</th>\n",
       "      <th>ticket_subcategory</th>\n",
       "      <th>current_state</th>\n",
       "      <th>request_id</th>\n",
       "      <th>activity_start_dt</th>\n",
       "      <th>fact_reaction_dt</th>\n",
       "      <th>date</th>\n",
       "      <th>duration</th>\n",
       "      <th>result_mentioned_by_user</th>\n",
       "    </tr>\n",
       "  </thead>\n",
       "  <tbody>\n",
       "    <tr>\n",
       "      <th>41943</th>\n",
       "      <td>5 279 000 095</td>\n",
       "      <td>2013-11-22 12:03:49</td>\n",
       "      <td>2013-11-22 12:06:36</td>\n",
       "      <td>8 547 750 079</td>\n",
       "      <td>2014-01-01 10:26:38</td>\n",
       "      <td>Транспорт</td>\n",
       "      <td>Автомобили</td>\n",
       "      <td>Блокировки и отклонения</td>\n",
       "      <td>Заблокированная учетная запись</td>\n",
       "      <td>Решено</td>\n",
       "      <td>465c1852-fd24-4ecc-9d91-28d4a151d4f1</td>\n",
       "      <td>2015-11-15 16:39:00</td>\n",
       "      <td>2015-11-16 17:55:00</td>\n",
       "      <td>2015-11-15</td>\n",
       "      <td>4560</td>\n",
       "      <td>Не удовлетворительно</td>\n",
       "    </tr>\n",
       "    <tr>\n",
       "      <th>41945</th>\n",
       "      <td>5 279 000 095</td>\n",
       "      <td>2013-11-22 12:03:49</td>\n",
       "      <td>2013-11-22 12:06:36</td>\n",
       "      <td>10 750 000 262</td>\n",
       "      <td>2014-01-27 12:41:21</td>\n",
       "      <td>Транспорт</td>\n",
       "      <td>Запчасти и аксессуары</td>\n",
       "      <td>Блокировки и отклонения</td>\n",
       "      <td>Заблокированная учетная запись</td>\n",
       "      <td>Решено</td>\n",
       "      <td>465c1852-fd24-4ecc-9d91-28d4a151d4f1</td>\n",
       "      <td>2015-11-15 16:39:00</td>\n",
       "      <td>2015-11-16 17:55:00</td>\n",
       "      <td>2015-11-15</td>\n",
       "      <td>4560</td>\n",
       "      <td>Не удовлетворительно</td>\n",
       "    </tr>\n",
       "    <tr>\n",
       "      <th>41947</th>\n",
       "      <td>5 279 000 095</td>\n",
       "      <td>2013-11-22 12:03:49</td>\n",
       "      <td>2013-11-22 12:06:36</td>\n",
       "      <td>10 661 751 827</td>\n",
       "      <td>2014-01-26 15:15:01</td>\n",
       "      <td>Транспорт</td>\n",
       "      <td>Мотоциклы и мототехника</td>\n",
       "      <td>Блокировки и отклонения</td>\n",
       "      <td>Заблокированная учетная запись</td>\n",
       "      <td>Решено</td>\n",
       "      <td>465c1852-fd24-4ecc-9d91-28d4a151d4f1</td>\n",
       "      <td>2015-11-15 16:39:00</td>\n",
       "      <td>2015-11-16 17:55:00</td>\n",
       "      <td>2015-11-15</td>\n",
       "      <td>4560</td>\n",
       "      <td>Не удовлетворительно</td>\n",
       "    </tr>\n",
       "    <tr>\n",
       "      <th>41949</th>\n",
       "      <td>5 279 000 095</td>\n",
       "      <td>2013-11-22 12:03:49</td>\n",
       "      <td>2013-11-22 12:06:36</td>\n",
       "      <td>11 350 750 059</td>\n",
       "      <td>2014-02-02 17:45:50</td>\n",
       "      <td>Работа</td>\n",
       "      <td>Резюме</td>\n",
       "      <td>Блокировки и отклонения</td>\n",
       "      <td>Заблокированная учетная запись</td>\n",
       "      <td>Решено</td>\n",
       "      <td>465c1852-fd24-4ecc-9d91-28d4a151d4f1</td>\n",
       "      <td>2015-11-15 16:39:00</td>\n",
       "      <td>2015-11-16 17:55:00</td>\n",
       "      <td>2015-11-15</td>\n",
       "      <td>4560</td>\n",
       "      <td>Не удовлетворительно</td>\n",
       "    </tr>\n",
       "    <tr>\n",
       "      <th>41951</th>\n",
       "      <td>5 279 000 095</td>\n",
       "      <td>2013-11-22 12:03:49</td>\n",
       "      <td>2013-11-22 12:06:36</td>\n",
       "      <td>11 792 500 634</td>\n",
       "      <td>2014-02-07 17:05:23</td>\n",
       "      <td>Бытовая электроника</td>\n",
       "      <td>Телефоны</td>\n",
       "      <td>Блокировки и отклонения</td>\n",
       "      <td>Заблокированная учетная запись</td>\n",
       "      <td>Решено</td>\n",
       "      <td>465c1852-fd24-4ecc-9d91-28d4a151d4f1</td>\n",
       "      <td>2015-11-15 16:39:00</td>\n",
       "      <td>2015-11-16 17:55:00</td>\n",
       "      <td>2015-11-15</td>\n",
       "      <td>4560</td>\n",
       "      <td>Не удовлетворительно</td>\n",
       "    </tr>\n",
       "  </tbody>\n",
       "</table>\n",
       "</div>"
      ],
      "text/plain": [
       "             user_id user_registration_time user_first_listing_date  \\\n",
       "41943  5 279 000 095    2013-11-22 12:03:49     2013-11-22 12:06:36   \n",
       "41945  5 279 000 095    2013-11-22 12:03:49     2013-11-22 12:06:36   \n",
       "41947  5 279 000 095    2013-11-22 12:03:49     2013-11-22 12:06:36   \n",
       "41949  5 279 000 095    2013-11-22 12:03:49     2013-11-22 12:06:36   \n",
       "41951  5 279 000 095    2013-11-22 12:03:49     2013-11-22 12:06:36   \n",
       "\n",
       "              item_id      item_starttime        item_category  \\\n",
       "41943   8 547 750 079 2014-01-01 10:26:38            Транспорт   \n",
       "41945  10 750 000 262 2014-01-27 12:41:21            Транспорт   \n",
       "41947  10 661 751 827 2014-01-26 15:15:01            Транспорт   \n",
       "41949  11 350 750 059 2014-02-02 17:45:50               Работа   \n",
       "41951  11 792 500 634 2014-02-07 17:05:23  Бытовая электроника   \n",
       "\n",
       "              item_subcategory          ticket_category  \\\n",
       "41943               Автомобили  Блокировки и отклонения   \n",
       "41945    Запчасти и аксессуары  Блокировки и отклонения   \n",
       "41947  Мотоциклы и мототехника  Блокировки и отклонения   \n",
       "41949                   Резюме  Блокировки и отклонения   \n",
       "41951                 Телефоны  Блокировки и отклонения   \n",
       "\n",
       "                   ticket_subcategory current_state  \\\n",
       "41943  Заблокированная учетная запись        Решено   \n",
       "41945  Заблокированная учетная запись        Решено   \n",
       "41947  Заблокированная учетная запись        Решено   \n",
       "41949  Заблокированная учетная запись        Решено   \n",
       "41951  Заблокированная учетная запись        Решено   \n",
       "\n",
       "                                 request_id   activity_start_dt  \\\n",
       "41943  465c1852-fd24-4ecc-9d91-28d4a151d4f1 2015-11-15 16:39:00   \n",
       "41945  465c1852-fd24-4ecc-9d91-28d4a151d4f1 2015-11-15 16:39:00   \n",
       "41947  465c1852-fd24-4ecc-9d91-28d4a151d4f1 2015-11-15 16:39:00   \n",
       "41949  465c1852-fd24-4ecc-9d91-28d4a151d4f1 2015-11-15 16:39:00   \n",
       "41951  465c1852-fd24-4ecc-9d91-28d4a151d4f1 2015-11-15 16:39:00   \n",
       "\n",
       "         fact_reaction_dt        date  duration result_mentioned_by_user  \n",
       "41943 2015-11-16 17:55:00  2015-11-15      4560     Не удовлетворительно  \n",
       "41945 2015-11-16 17:55:00  2015-11-15      4560     Не удовлетворительно  \n",
       "41947 2015-11-16 17:55:00  2015-11-15      4560     Не удовлетворительно  \n",
       "41949 2015-11-16 17:55:00  2015-11-15      4560     Не удовлетворительно  \n",
       "41951 2015-11-16 17:55:00  2015-11-15      4560     Не удовлетворительно  "
      ]
     },
     "execution_count": 66,
     "metadata": {},
     "output_type": "execute_result"
    }
   ],
   "source": [
    "not_good = new_table[new_table.result_mentioned_by_user == 'Не удовлетворительно']\n",
    "not_good.head()"
   ]
  },
  {
   "cell_type": "markdown",
   "metadata": {},
   "source": [
    "**Группа лояльных пользователей**"
   ]
  },
  {
   "cell_type": "code",
   "execution_count": 67,
   "metadata": {},
   "outputs": [
    {
     "data": {
      "text/html": [
       "<div>\n",
       "<style scoped>\n",
       "    .dataframe tbody tr th:only-of-type {\n",
       "        vertical-align: middle;\n",
       "    }\n",
       "\n",
       "    .dataframe tbody tr th {\n",
       "        vertical-align: top;\n",
       "    }\n",
       "\n",
       "    .dataframe thead th {\n",
       "        text-align: right;\n",
       "    }\n",
       "</style>\n",
       "<table border=\"1\" class=\"dataframe\">\n",
       "  <thead>\n",
       "    <tr style=\"text-align: right;\">\n",
       "      <th></th>\n",
       "      <th>user_id</th>\n",
       "      <th>user_registration_time</th>\n",
       "      <th>user_first_listing_date</th>\n",
       "      <th>item_id</th>\n",
       "      <th>item_starttime</th>\n",
       "      <th>item_category</th>\n",
       "      <th>item_subcategory</th>\n",
       "      <th>ticket_category</th>\n",
       "      <th>ticket_subcategory</th>\n",
       "      <th>current_state</th>\n",
       "      <th>request_id</th>\n",
       "      <th>activity_start_dt</th>\n",
       "      <th>fact_reaction_dt</th>\n",
       "      <th>date</th>\n",
       "      <th>duration</th>\n",
       "      <th>result_mentioned_by_user</th>\n",
       "    </tr>\n",
       "  </thead>\n",
       "  <tbody>\n",
       "    <tr>\n",
       "      <th>0</th>\n",
       "      <td>386 341 477</td>\n",
       "      <td>2013-05-27 14:40:09</td>\n",
       "      <td>2013-05-27 14:40:09</td>\n",
       "      <td>8 523 500 011</td>\n",
       "      <td>2014-01-01 02:22:54</td>\n",
       "      <td>Транспорт</td>\n",
       "      <td>Автомобили</td>\n",
       "      <td>Платные услуги и сервисы</td>\n",
       "      <td>Пополнение кошелька</td>\n",
       "      <td>Решено</td>\n",
       "      <td>0fc421a6-b171-4aa3-acf9-397886583a2b</td>\n",
       "      <td>2015-11-02 15:48:00</td>\n",
       "      <td>2015-11-07 11:41:00</td>\n",
       "      <td>2015-11-02</td>\n",
       "      <td>71580</td>\n",
       "      <td>Нейтрально</td>\n",
       "    </tr>\n",
       "    <tr>\n",
       "      <th>1</th>\n",
       "      <td>386 341 477</td>\n",
       "      <td>2013-05-27 14:40:09</td>\n",
       "      <td>2013-05-27 14:40:09</td>\n",
       "      <td>8 745 001 122</td>\n",
       "      <td>2014-01-03 21:57:17</td>\n",
       "      <td>Бытовая электроника</td>\n",
       "      <td>Аудио и видео</td>\n",
       "      <td>Платные услуги и сервисы</td>\n",
       "      <td>Пополнение кошелька</td>\n",
       "      <td>Решено</td>\n",
       "      <td>0fc421a6-b171-4aa3-acf9-397886583a2b</td>\n",
       "      <td>2015-11-02 15:48:00</td>\n",
       "      <td>2015-11-07 11:41:00</td>\n",
       "      <td>2015-11-02</td>\n",
       "      <td>71580</td>\n",
       "      <td>Нейтрально</td>\n",
       "    </tr>\n",
       "    <tr>\n",
       "      <th>2</th>\n",
       "      <td>386 341 477</td>\n",
       "      <td>2013-05-27 14:40:09</td>\n",
       "      <td>2013-05-27 14:40:09</td>\n",
       "      <td>9 117 002 008</td>\n",
       "      <td>2014-01-08 13:14:42</td>\n",
       "      <td>Транспорт</td>\n",
       "      <td>Автомобили</td>\n",
       "      <td>Платные услуги и сервисы</td>\n",
       "      <td>Пополнение кошелька</td>\n",
       "      <td>Решено</td>\n",
       "      <td>0fc421a6-b171-4aa3-acf9-397886583a2b</td>\n",
       "      <td>2015-11-02 15:48:00</td>\n",
       "      <td>2015-11-07 11:41:00</td>\n",
       "      <td>2015-11-02</td>\n",
       "      <td>71580</td>\n",
       "      <td>Нейтрально</td>\n",
       "    </tr>\n",
       "    <tr>\n",
       "      <th>3</th>\n",
       "      <td>386 341 477</td>\n",
       "      <td>2013-05-27 14:40:09</td>\n",
       "      <td>2013-05-27 14:40:09</td>\n",
       "      <td>9 229 500 613</td>\n",
       "      <td>2014-01-09 20:45:54</td>\n",
       "      <td>Транспорт</td>\n",
       "      <td>Автомобили</td>\n",
       "      <td>Платные услуги и сервисы</td>\n",
       "      <td>Пополнение кошелька</td>\n",
       "      <td>Решено</td>\n",
       "      <td>0fc421a6-b171-4aa3-acf9-397886583a2b</td>\n",
       "      <td>2015-11-02 15:48:00</td>\n",
       "      <td>2015-11-07 11:41:00</td>\n",
       "      <td>2015-11-02</td>\n",
       "      <td>71580</td>\n",
       "      <td>Нейтрально</td>\n",
       "    </tr>\n",
       "    <tr>\n",
       "      <th>4</th>\n",
       "      <td>386 341 477</td>\n",
       "      <td>2013-05-27 14:40:09</td>\n",
       "      <td>2013-05-27 14:40:09</td>\n",
       "      <td>9 801 750 955</td>\n",
       "      <td>2014-01-16 22:10:12</td>\n",
       "      <td>Транспорт</td>\n",
       "      <td>Запчасти и аксессуары</td>\n",
       "      <td>Платные услуги и сервисы</td>\n",
       "      <td>Пополнение кошелька</td>\n",
       "      <td>Решено</td>\n",
       "      <td>0fc421a6-b171-4aa3-acf9-397886583a2b</td>\n",
       "      <td>2015-11-02 15:48:00</td>\n",
       "      <td>2015-11-07 11:41:00</td>\n",
       "      <td>2015-11-02</td>\n",
       "      <td>71580</td>\n",
       "      <td>Нейтрально</td>\n",
       "    </tr>\n",
       "  </tbody>\n",
       "</table>\n",
       "</div>"
      ],
      "text/plain": [
       "       user_id user_registration_time user_first_listing_date        item_id  \\\n",
       "0  386 341 477    2013-05-27 14:40:09     2013-05-27 14:40:09  8 523 500 011   \n",
       "1  386 341 477    2013-05-27 14:40:09     2013-05-27 14:40:09  8 745 001 122   \n",
       "2  386 341 477    2013-05-27 14:40:09     2013-05-27 14:40:09  9 117 002 008   \n",
       "3  386 341 477    2013-05-27 14:40:09     2013-05-27 14:40:09  9 229 500 613   \n",
       "4  386 341 477    2013-05-27 14:40:09     2013-05-27 14:40:09  9 801 750 955   \n",
       "\n",
       "       item_starttime        item_category       item_subcategory  \\\n",
       "0 2014-01-01 02:22:54            Транспорт             Автомобили   \n",
       "1 2014-01-03 21:57:17  Бытовая электроника          Аудио и видео   \n",
       "2 2014-01-08 13:14:42            Транспорт             Автомобили   \n",
       "3 2014-01-09 20:45:54            Транспорт             Автомобили   \n",
       "4 2014-01-16 22:10:12            Транспорт  Запчасти и аксессуары   \n",
       "\n",
       "            ticket_category   ticket_subcategory current_state  \\\n",
       "0  Платные услуги и сервисы  Пополнение кошелька        Решено   \n",
       "1  Платные услуги и сервисы  Пополнение кошелька        Решено   \n",
       "2  Платные услуги и сервисы  Пополнение кошелька        Решено   \n",
       "3  Платные услуги и сервисы  Пополнение кошелька        Решено   \n",
       "4  Платные услуги и сервисы  Пополнение кошелька        Решено   \n",
       "\n",
       "                             request_id   activity_start_dt  \\\n",
       "0  0fc421a6-b171-4aa3-acf9-397886583a2b 2015-11-02 15:48:00   \n",
       "1  0fc421a6-b171-4aa3-acf9-397886583a2b 2015-11-02 15:48:00   \n",
       "2  0fc421a6-b171-4aa3-acf9-397886583a2b 2015-11-02 15:48:00   \n",
       "3  0fc421a6-b171-4aa3-acf9-397886583a2b 2015-11-02 15:48:00   \n",
       "4  0fc421a6-b171-4aa3-acf9-397886583a2b 2015-11-02 15:48:00   \n",
       "\n",
       "     fact_reaction_dt        date  duration result_mentioned_by_user  \n",
       "0 2015-11-07 11:41:00  2015-11-02     71580               Нейтрально  \n",
       "1 2015-11-07 11:41:00  2015-11-02     71580               Нейтрально  \n",
       "2 2015-11-07 11:41:00  2015-11-02     71580               Нейтрально  \n",
       "3 2015-11-07 11:41:00  2015-11-02     71580               Нейтрально  \n",
       "4 2015-11-07 11:41:00  2015-11-02     71580               Нейтрально  "
      ]
     },
     "execution_count": 67,
     "metadata": {},
     "output_type": "execute_result"
    }
   ],
   "source": [
    "good = new_table[new_table.result_mentioned_by_user != 'Не удовлетворительно']\n",
    "good.head()"
   ]
  },
  {
   "cell_type": "markdown",
   "metadata": {},
   "source": [
    "**Для двух групп сделаем группировку по уникальным пользователям и рассчитываем количество объявлений для каждого пользователя.**"
   ]
  },
  {
   "cell_type": "code",
   "execution_count": 68,
   "metadata": {},
   "outputs": [
    {
     "data": {
      "text/html": [
       "<div>\n",
       "<style scoped>\n",
       "    .dataframe tbody tr th:only-of-type {\n",
       "        vertical-align: middle;\n",
       "    }\n",
       "\n",
       "    .dataframe tbody tr th {\n",
       "        vertical-align: top;\n",
       "    }\n",
       "\n",
       "    .dataframe thead th {\n",
       "        text-align: right;\n",
       "    }\n",
       "</style>\n",
       "<table border=\"1\" class=\"dataframe\">\n",
       "  <thead>\n",
       "    <tr style=\"text-align: right;\">\n",
       "      <th></th>\n",
       "      <th>user_id</th>\n",
       "      <th>item_id</th>\n",
       "    </tr>\n",
       "    <tr>\n",
       "      <th>user_id</th>\n",
       "      <th></th>\n",
       "      <th></th>\n",
       "    </tr>\n",
       "  </thead>\n",
       "  <tbody>\n",
       "    <tr>\n",
       "      <th>100 000 242</th>\n",
       "      <td>1</td>\n",
       "      <td>205</td>\n",
       "    </tr>\n",
       "    <tr>\n",
       "      <th>100 003 000 014</th>\n",
       "      <td>1</td>\n",
       "      <td>1018</td>\n",
       "    </tr>\n",
       "    <tr>\n",
       "      <th>100 018 250 066</th>\n",
       "      <td>1</td>\n",
       "      <td>16</td>\n",
       "    </tr>\n",
       "    <tr>\n",
       "      <th>100 018 500 043</th>\n",
       "      <td>1</td>\n",
       "      <td>15</td>\n",
       "    </tr>\n",
       "    <tr>\n",
       "      <th>100 028 000 054</th>\n",
       "      <td>1</td>\n",
       "      <td>201</td>\n",
       "    </tr>\n",
       "  </tbody>\n",
       "</table>\n",
       "</div>"
      ],
      "text/plain": [
       "                 user_id  item_id\n",
       "user_id                          \n",
       "100 000 242            1      205\n",
       "100 003 000 014        1     1018\n",
       "100 018 250 066        1       16\n",
       "100 018 500 043        1       15\n",
       "100 028 000 054        1      201"
      ]
     },
     "execution_count": 68,
     "metadata": {},
     "output_type": "execute_result"
    }
   ],
   "source": [
    "not_good_group_ads = not_good.groupby('user_id').agg({'user_id':'nunique','item_id':'count'})\n",
    "not_good_group_ads.head()"
   ]
  },
  {
   "cell_type": "code",
   "execution_count": 69,
   "metadata": {},
   "outputs": [
    {
     "data": {
      "text/html": [
       "<div>\n",
       "<style scoped>\n",
       "    .dataframe tbody tr th:only-of-type {\n",
       "        vertical-align: middle;\n",
       "    }\n",
       "\n",
       "    .dataframe tbody tr th {\n",
       "        vertical-align: top;\n",
       "    }\n",
       "\n",
       "    .dataframe thead th {\n",
       "        text-align: right;\n",
       "    }\n",
       "</style>\n",
       "<table border=\"1\" class=\"dataframe\">\n",
       "  <thead>\n",
       "    <tr style=\"text-align: right;\">\n",
       "      <th></th>\n",
       "      <th>user_id</th>\n",
       "      <th>item_id</th>\n",
       "    </tr>\n",
       "    <tr>\n",
       "      <th>user_id</th>\n",
       "      <th></th>\n",
       "      <th></th>\n",
       "    </tr>\n",
       "  </thead>\n",
       "  <tbody>\n",
       "    <tr>\n",
       "      <th>100 000 209</th>\n",
       "      <td>1</td>\n",
       "      <td>15</td>\n",
       "    </tr>\n",
       "    <tr>\n",
       "      <th>100 000 540</th>\n",
       "      <td>1</td>\n",
       "      <td>32</td>\n",
       "    </tr>\n",
       "    <tr>\n",
       "      <th>100 000 812</th>\n",
       "      <td>1</td>\n",
       "      <td>19</td>\n",
       "    </tr>\n",
       "    <tr>\n",
       "      <th>100 003 000 014</th>\n",
       "      <td>1</td>\n",
       "      <td>1018</td>\n",
       "    </tr>\n",
       "    <tr>\n",
       "      <th>100 004 250 034</th>\n",
       "      <td>1</td>\n",
       "      <td>102</td>\n",
       "    </tr>\n",
       "  </tbody>\n",
       "</table>\n",
       "</div>"
      ],
      "text/plain": [
       "                 user_id  item_id\n",
       "user_id                          \n",
       "100 000 209            1       15\n",
       "100 000 540            1       32\n",
       "100 000 812            1       19\n",
       "100 003 000 014        1     1018\n",
       "100 004 250 034        1      102"
      ]
     },
     "execution_count": 69,
     "metadata": {},
     "output_type": "execute_result"
    }
   ],
   "source": [
    "good_group_ads = good.groupby('user_id').agg({'user_id':'nunique','item_id':'count'})\n",
    "good_group_ads.head()"
   ]
  },
  {
   "cell_type": "markdown",
   "metadata": {},
   "source": [
    "**Находим среднее количество объявлений для пользователей в каждой из групп и сравниваем.**"
   ]
  },
  {
   "cell_type": "code",
   "execution_count": 70,
   "metadata": {},
   "outputs": [
    {
     "data": {
      "text/plain": [
       "26.0"
      ]
     },
     "execution_count": 70,
     "metadata": {},
     "output_type": "execute_result"
    }
   ],
   "source": [
    "not_good_ads_median = not_good_group_ads.item_id.median()\n",
    "not_good_ads_median"
   ]
  },
  {
   "cell_type": "code",
   "execution_count": 71,
   "metadata": {},
   "outputs": [
    {
     "data": {
      "text/plain": [
       "20.0"
      ]
     },
     "execution_count": 71,
     "metadata": {},
     "output_type": "execute_result"
    }
   ],
   "source": [
    "good_ads_median = good_group_ads.item_id.median()\n",
    "good_ads_median"
   ]
  },
  {
   "cell_type": "code",
   "execution_count": 72,
   "metadata": {},
   "outputs": [
    {
     "data": {
      "image/png": "[encoded data removed]",
      "text/plain": [
       "<Figure size 1224x360 with 2 Axes>"
      ]
     },
     "metadata": {},
     "output_type": "display_data"
    }
   ],
   "source": [
    "# Строим график распределения в первые несколько часов\n",
    "plt.subplots(figsize=(17,5))\n",
    "plot = not_good_group_ads.boxplot('item_id',ax = plt.subplot(1,2,1)\n",
    ")\n",
    "plt.ylim(0,100)\n",
    "plt.title('Среднее количесвто объявлений в группе нелояльных пользователей')\n",
    "\n",
    "plot = good_group_ads.boxplot('item_id', ax = plt.subplot(1,2,2)\n",
    ")\n",
    "plt.ylim(0,100)\n",
    "\n",
    "plt.title('Среднее количесвто объявлений в группе лояльных пользователей');\n",
    "plt.show()"
   ]
  },
  {
   "cell_type": "markdown",
   "metadata": {},
   "source": [
    "Группа нелояльных пользователей в среднем размещает больше объявлений, чем в другая. \n",
    "26 против 20."
   ]
  },
  {
   "cell_type": "markdown",
   "metadata": {},
   "source": [
    "**Рассчитываем количество пользователей в каждой из групп**"
   ]
  },
  {
   "cell_type": "code",
   "execution_count": 73,
   "metadata": {},
   "outputs": [
    {
     "data": {
      "text/plain": [
       "16965"
      ]
     },
     "execution_count": 73,
     "metadata": {},
     "output_type": "execute_result"
    }
   ],
   "source": [
    "not_good_cnt_users = not_good_group_ads.user_id.count()\n",
    "not_good_cnt_users"
   ]
  },
  {
   "cell_type": "code",
   "execution_count": 74,
   "metadata": {},
   "outputs": [
    {
     "data": {
      "text/plain": [
       "248260"
      ]
     },
     "execution_count": 74,
     "metadata": {},
     "output_type": "execute_result"
    }
   ],
   "source": [
    "general_cnt_users = group_ads.user_id.count()\n",
    "general_cnt_users"
   ]
  },
  {
   "cell_type": "markdown",
   "metadata": {},
   "source": [
    "**Умножаем среднее количество объявлений на количество пользователей, в каждой из групп. Проводим сравнение по примерному недополученному количеству объявлений.**"
   ]
  },
  {
   "cell_type": "code",
   "execution_count": 75,
   "metadata": {},
   "outputs": [
    {
     "data": {
      "text/plain": [
       "441090"
      ]
     },
     "execution_count": 75,
     "metadata": {},
     "output_type": "execute_result"
    }
   ],
   "source": [
    "general_not_good_ads = (not_good_cnt_users * not_good_ads_median).astype(int)\n",
    "general_not_good_ads"
   ]
  },
  {
   "cell_type": "code",
   "execution_count": 76,
   "metadata": {},
   "outputs": [
    {
     "data": {
      "text/plain": [
       "3972160"
      ]
     },
     "execution_count": 76,
     "metadata": {},
     "output_type": "execute_result"
    }
   ],
   "source": [
    "general_cnt_ads = (general_cnt_users * group_ads_median).astype(int)\n",
    "general_cnt_ads"
   ]
  },
  {
   "cell_type": "markdown",
   "metadata": {},
   "source": [
    "**Находим доли от общего количества**"
   ]
  },
  {
   "cell_type": "code",
   "execution_count": 77,
   "metadata": {},
   "outputs": [
    {
     "data": {
      "text/plain": [
       "11.104537581567712"
      ]
     },
     "execution_count": 77,
     "metadata": {},
     "output_type": "execute_result"
    }
   ],
   "source": [
    "ratio_ads = (general_not_good_ads / general_cnt_ads) * 100\n",
    "ratio_ads"
   ]
  },
  {
   "cell_type": "code",
   "execution_count": 78,
   "metadata": {},
   "outputs": [
    {
     "data": {
      "text/plain": [
       "6.833561588657052"
      ]
     },
     "execution_count": 78,
     "metadata": {},
     "output_type": "execute_result"
    }
   ],
   "source": [
    "ratio_users = (not_good_cnt_users / general_cnt_users) * 100\n",
    "ratio_users"
   ]
  },
  {
   "cell_type": "code",
   "execution_count": 79,
   "metadata": {},
   "outputs": [
    {
     "name": "stdout",
     "output_type": "stream",
     "text": [
      "Количество нелояльных пользователей:  16965\n",
      "\n",
      "Доля нелояльных пользователей от общей выборки: 6.8 %\n",
      "\n",
      "Количество объявлений от нелояльных пользователей:  441090\n",
      "\n",
      "Доля объявлений от нелояльных пользователей от общей выборки: 11.1 %\n"
     ]
    }
   ],
   "source": [
    "print('Количество нелояльных пользователей: ', not_good_cnt_users)\n",
    "print()\n",
    "print('Доля нелояльных пользователей от общей выборки: {:.1f}'.format(ratio_users), '%')\n",
    "print()\n",
    "print('Количество объявлений от нелояльных пользователей: ', general_not_good_ads)\n",
    "print()\n",
    "print('Доля объявлений от нелояльных пользователей от общей выборки: {:.1f}'.format(ratio_ads), '%')"
   ]
  },
  {
   "cell_type": "markdown",
   "metadata": {},
   "source": [
    "### Вывод\n",
    "\n",
    "В целом, из-за снижения лояльности пользователей, сайт Маргарито может потерять примерно 16 965 пользователей — 6.8% от общего количества за представленный период. И примерно 441 090 объявлений — 11.1% от общего количества. \n"
   ]
  },
  {
   "cell_type": "code",
   "execution_count": null,
   "metadata": {},
   "outputs": [],
   "source": []
  },
  {
   "cell_type": "markdown",
   "metadata": {},
   "source": [
    "Здесь будут формулы по расчёту количества лояльных пользователей, объявлений и доли. "
   ]
  },
  {
   "cell_type": "code",
   "execution_count": 80,
   "metadata": {},
   "outputs": [],
   "source": [
    "good_cnt_users = good_group_ads.user_id.count()\n",
    "general_good_ads = (good_cnt_users * good_ads_median).astype(int)\n",
    "good_ratio_ads = (general_good_ads / general_cnt_ads) * 100\n",
    "good_ratio_users = (good_cnt_users / general_cnt_users) * 100"
   ]
  },
  {
   "cell_type": "markdown",
   "metadata": {},
   "source": [
    "### Проверим нашу гипотезу методами статистики\n"
   ]
  },
  {
   "cell_type": "markdown",
   "metadata": {},
   "source": [
    "**Анализируем различие в среднем количестве объявлений по двум группам**\n",
    "\n",
    "Сначала мы проверим нормальность распределение для нашей гипотезы. \n",
    "\n",
    "- Нулевая гипотеза: распределение нормальное\n",
    "- Альтернативная гипотеза: распределение не нормальное."
   ]
  },
  {
   "cell_type": "code",
   "execution_count": 81,
   "metadata": {},
   "outputs": [
    {
     "name": "stdout",
     "output_type": "stream",
     "text": [
      "p-значение:  32\n",
      "Не получилось отвергнуть нулевую гипотезу, всё нормально\n"
     ]
    }
   ],
   "source": [
    "alpha = .05 # критический уровень статистической значимости\n",
    "\n",
    "results = st.anderson(not_good_group_ads['item_id']\n",
    "                    )\n",
    "p_value = good_group_ads['item_id'][1] # второе значение в массиве результатов (с индексом 1) - p-value\n",
    "\n",
    "print('p-значение: ', p_value)\n",
    "\n",
    "if (p_value < alpha):\n",
    "    print(\"Отвергаем нулевую гипотезу: распределение не нормально\")\n",
    "else:\n",
    "    print(\"Не получилось отвергнуть нулевую гипотезу, всё нормально\")"
   ]
  },
  {
   "cell_type": "markdown",
   "metadata": {},
   "source": [
    "Для нормального распределения будем использовать тест Стьюдента — t-тест\n",
    "\n",
    "**Гипотеза**: Cреднее количество объявлений от нелояльных пользователей не отличается от ср. количества объявлений лояльных пользователей\n",
    "\n",
    "Нулевая гипотеза **Н₀:**\n",
    "\n",
    "    Среднее кол-во объявлений — одинаковое.\n",
    "\n",
    "Альтернативная гипотеза **Н₁**:\n",
    "\n",
    "    Среднее кол-во объявлений — отличается.\n",
    "\n",
    "Пороговое значение alpha (критический уровень стат. значимости) задаем равным 5% (принятное, стандартное значение)"
   ]
  },
  {
   "cell_type": "code",
   "execution_count": 82,
   "metadata": {},
   "outputs": [
    {
     "name": "stdout",
     "output_type": "stream",
     "text": [
      "p-значение:  0.002672597377015311\n",
      "Отвергаем нулевую гипотезу: разница статистически значима\n"
     ]
    }
   ],
   "source": [
    "alpha = .05 # критический уровень статистической значимости\n",
    "\n",
    "results = st.ttest_ind(not_good_group_ads['item_id'], \n",
    "                       good_group_ads['item_id'])\n",
    "\n",
    "print('p-значение: ', results.pvalue)\n",
    "\n",
    "if (results.pvalue < alpha):\n",
    "    print(\"Отвергаем нулевую гипотезу: разница статистически значима\")\n",
    "else:\n",
    "    print(\"Не получилось отвергнуть нулевую гипотезу, вывод о различии сделать нельзя\")"
   ]
  },
  {
   "cell_type": "markdown",
   "metadata": {},
   "source": [
    "## Финальный вывод"
   ]
  },
  {
   "cell_type": "markdown",
   "metadata": {},
   "source": [
    "Мы проанализировали полученные данные за представленный период и пришли к выводу, что существенная часть пользователей теряет свою лояльность к сайту Маргарито из-за неэффективной системы тех.поддержки.\n",
    "\n",
    "Несмотря на преобладание положительных оценок, наблюдается выраженная часть неудовлетворительных оценок — **20.5%.**\n",
    "\n",
    "Нелояльные пользователи оставляют негативные оценки тех.поддержке из-за нерешённости проблемы, либо превышения терпимого времени ожиданния ответа. Время ожидания для нелояльных пользователей сосатвляет **7 часов, а иногда и 4 дня**. Бывают случаи, когда ответы даются через 20 и 30 дней.\n",
    "\n",
    "\n",
    "В основном, время ожидания ответа от тех.поддержки для всех пользователей ранжируется на несколько групп (по минутам, часам и дням):\n",
    "\n",
    "- Есть быстрые ответы через 4-8 минут. Но среднее время ожидания ответа составляет 18 минут — доля в 19%\n",
    "- Есть быстрые ответы через 1-5 часа. Но среднее время ожидания ответа составляет 6 часов — доля в 80%\n",
    "- Есть быстрые ответы через 1-3 дня. Но среднее время ожидания ответа составляет 3 дня — доля в 42%\n",
    "\n",
    "**Таким образом**, большая часть ответов приходится на длительное время ожидания от **6 часов до 3х дней**. На данный момент такая работа тех.поддержки не эффективна и негативно сказывается на лояльности пользователей.\n",
    "\n",
    "Мы проверяли нашу гипотезу о разнице во времени ожидания ответа для лояльных и нелояльных пользователей на уровень статистической значимости. И пришли к выводу, что среднее время ожидания ответа в группе нелояльных пользователей значительно дольше, в сравнении с другой группой. Разница статистически значима.\n",
    "\n",
    "В целом, нелояльных пользователей меньше, в сравнеии с лояльными. Но они склонны публиковать больше объявлений. Гипотезу о разнице в среднем количестве объявлений между группой лояльных и нелояльных пользователй мы проверили на уровень статистической значимости. \n",
    "\n",
    "**Мы оценили примерный урон для сайта Маргарито из-за нелояльных пользователей:**\n",
    "\n",
    "- недополученное количество объявлений — 441 090 — 11.1% от общего количества за представленный период;\n",
    "- недополученное количество пользователей — 16 965 — 6.8% от общего количества;\n",
    "\n",
    "\n",
    "\n",
    "Несмотря на полученные результаты, мы должны понимать, что данный анализ урона является примерным, так как нам неизвестны средняя выручка по объявлениям, покупка рекламы и продвижения, платное размещение и т.д. Также, мы не учитывали группу нейтральных оценок и тех, кто не оставлял оценок. Бывает так, что такие безучастные пользователи быстро «отваливаются» от сайта. \n",
    "\n",
    "Мы рекомендуем разработать уникальный классификатор запросов для тех. поддержки. Он позволит ранжировать обращения, выделяя срочные и наоборот. Возможно, это поможет в эффективности работы. \n"
   ]
  },
  {
   "cell_type": "code",
   "execution_count": null,
   "metadata": {},
   "outputs": [],
   "source": []
  }
 ],
 "metadata": {
  "kernelspec": {
   "display_name": "Python 3",
   "language": "python",
   "name": "python3"
  },
  "language_info": {
   "codemirror_mode": {
    "name": "ipython",
    "version": 3
   },
   "file_extension": ".py",
   "mimetype": "text/x-python",
   "name": "python",
   "nbconvert_exporter": "python",
   "pygments_lexer": "ipython3",
   "version": "3.7.6"
  }
 },
 "nbformat": 4,
 "nbformat_minor": 4
}
